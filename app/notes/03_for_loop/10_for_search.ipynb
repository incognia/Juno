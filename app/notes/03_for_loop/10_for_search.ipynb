{
 "cells": [
  {
   "cell_type": "markdown",
   "metadata": {},
   "source": [
    "# 10. ¿Dónde están mis guantes?\n",
    "\n",
    "## Bucle `for` para buscar\n",
    "\n",
    "[Learn Python with Jupyter](https://learnpythonwithjupyter.com/) (Aprende Python con Jupyter): [Serena Bonaretti](https://sbonaretti.github.io/)   \n",
    "Tradución al español mexicano (es-MX): [Rodrigo Ernesto Álvarez Aguilera](https://incognia.github.io/)   \n",
    "Licencia de contenido: [CC BY-NC-SA](https://creativecommons.org/licenses/by-nc-sa/2.0/). Licencia de código: [GNU-GPL v3](https://www.gnu.org/licenses/gpl-3.0.en.html)  \n",
    "\n",
    "---"
   ]
  },
  {
   "cell_type": "markdown",
   "metadata": {},
   "source": [
    "- ¿Quién no tiene un cajón desordenado? ¡Aquí está el nuestro! Contiene algunos accesorios:"
   ]
  },
  {
   "cell_type": "code",
   "execution_count": null,
   "metadata": {},
   "outputs": [],
   "source": [
    "accesorios = [\"cinturón\", \"gorra\", \"guantes\", \"lentes oscuros\", \"anillo\"]\n",
    "print(accesorios)"
   ]
  },
  {
   "cell_type": "markdown",
   "metadata": {},
   "source": [
    "- Imprime todos los accesorios uno por uno, junto con sus posiciones en la lista. Usa una frase como *El elemento x está en la posición y*:"
   ]
  },
  {
   "cell_type": "code",
   "execution_count": null,
   "metadata": {},
   "outputs": [],
   "source": [
    "# Para cada posición en la lista\n",
    "for i in range(len(accesorios)):\n",
    "    # Imprime cada elemento y su posición\n",
    "    print(\"El elemento \" + accesorios[i] + \" está en la posición \" + str(i))"
   ]
  },
  {
   "cell_type": "markdown",
   "metadata": {},
   "source": [
    "1. Imprime el accesorio cuyo nombre **está compuesto por** 8 caracteres y su posición en la lista. Utiliza una frase como *El elemento x está en la posición y y tiene n caracteres*:"
   ]
  },
  {
   "cell_type": "code",
   "execution_count": null,
   "metadata": {},
   "outputs": [],
   "source": [
    "# Para cada posición en la lista\n",
    "for i in range(len(accesorios)):\n",
    "    # Si la longitud del elemento es igual a 8\n",
    "    if len(accesorios[i]) == 8:\n",
    "        # Imprime el elemento, su posición y su número de caracteres\n",
    "        print(\"El elemento \" + accesorios[i] + \" está en la posición \" + str(i) + \" y tiene 8 caracteres.\")"
   ]
  },
  {
   "cell_type": "markdown",
   "metadata": {},
   "source": [
    "2. Imprime los accesorios cuyos nombres están compuestos por **menos de** 8 caracteres:"
   ]
  },
  {
   "cell_type": "code",
   "execution_count": null,
   "metadata": {},
   "outputs": [],
   "source": [
    "# Para cada posición en la lista\n",
    "for i in range(len(accesorios)):\n",
    "    # Si la longitud del elemento es menor que 8\n",
    "    if len(accesorios[i]) < 8:\n",
    "        # Imprime el elemento, su posición y que tiene menos de 8 caracteres\n",
    "        print(\"El elemento \" + accesorios[i] + \" está en la posición \" + str(i) + \" y tiene menos de 8 caracteres.\")"
   ]
  },
  {
   "cell_type": "markdown",
   "metadata": {},
   "source": [
    "3. Imprime los accesorios cuyos nombres están compuestos por **más de** 8 caracteres. Además, asigna 8 a una variable:"
   ]
  },
  {
   "cell_type": "code",
   "execution_count": null,
   "metadata": {},
   "outputs": [],
   "source": [
    "# Definiendo el umbral\n",
    "n_de_caracteres = 8\n",
    "# Para cada posición en la lista\n",
    "for i in range(len(accesorios)):\n",
    "    # Si la longitud del elemento es mayor que el umbral\n",
    "    if len(accesorios[i]) > n_de_caracteres:\n",
    "        # Imprime el elemento, su posición y que tiene más de n_de_caracteres caracteres\n",
    "        print(\"El elemento \" + accesorios[i] + \" está en la posición \" + str(i) + \" y tiene más de \" + str(n_de_caracteres) + \" caracteres.\")"
   ]
  },
  {
   "cell_type": "markdown",
   "metadata": {},
   "source": [
    "4. Imprime los accesorios cuyos nombres están compuestos por un número de caracteres **diferente de** 8:"
   ]
  },
  {
   "cell_type": "code",
   "execution_count": null,
   "metadata": {
    "tags": []
   },
   "outputs": [],
   "source": [
    "# Definiendo el umbral\n",
    "n_de_caracteres = 8\n",
    "# Para cada posición en la lista\n",
    "for i in range(len(accesorios)):\n",
    "    # Si la longitud del elemento no es igual al umbral\n",
    "    if len(accesorios[i]) != n_de_caracteres:\n",
    "        # Imprime el elemento, su posición y que tiene un número de caracteres diferente de n_de_caracteres\n",
    "        print(\"El elemento \" + accesorios[i] + \" está en la posición \" + str(i) + \" y tiene un número de caracteres diferente de \" + str(n_de_caracteres) + \".\")"
   ]
  },
  {
   "cell_type": "markdown",
   "metadata": {},
   "source": [
    "5. Imprime los accesorios cuya posición es **menor o igual a** 2:"
   ]
  },
  {
   "cell_type": "code",
   "execution_count": null,
   "metadata": {
    "tags": []
   },
   "outputs": [],
   "source": [
    "# Definiendo el umbral\n",
    "posicion_umbral = 2\n",
    "# Para cada posición en la lista\n",
    "for i in range(len(accesorios)):\n",
    "    # Si la posición del elemento es menor o igual al umbral\n",
    "    if i <= posicion_umbral:\n",
    "        # Imprime el elemento, su posición y que la posición es menor o igual a la posición_umbral\n",
    "        print(\"El elemento \" + accesorios[i] + \" está en la posición \" + str(i) + \", que es menor o igual a \" + str(posicion_umbral) + \".\")"
   ]
  },
  {
   "cell_type": "markdown",
   "metadata": {},
   "source": [
    "6. Imprime los accesorios cuya posición es **al menos** 2:"
   ]
  },
  {
   "cell_type": "code",
   "execution_count": null,
   "metadata": {
    "tags": []
   },
   "outputs": [],
   "source": [
    "# Definiendo el umbral\n",
    "posicion_umbral = 2\n",
    "# Para cada posición en la lista\n",
    "for i in range(len(accesorios)):\n",
    "    # Si la posición del elemento es mayor o igual al umbral\n",
    "    if i >= posicion_umbral:\n",
    "        # Imprime el elemento, su posición y que la posición es al menos la posición_umbral\n",
    "        print(\"El elemento \" + accesorios[i] + \" está en la posición \" + str(i) + \", que es al menos \" + str(posicion_umbral) + \".\")"
   ]
  }
 ],
 "metadata": {
  "kernelspec": {
   "display_name": "Python 3 (ipykernel)",
   "language": "python",
   "name": "python3"
  },
  "language_info": {
   "codemirror_mode": {
    "name": "ipython",
    "version": 3
   },
   "file_extension": ".py",
   "mimetype": "text/x-python",
   "name": "python",
   "nbconvert_exporter": "python",
   "pygments_lexer": "ipython3",
   "version": "3.10.12"
  },
  "widgets": {
   "application/vnd.jupyter.widget-state+json": {
    "state": {},
    "version_major": 2,
    "version_minor": 0
   }
  }
 },
 "nbformat": 4,
 "nbformat_minor": 4
}
