{
 "cells": [
  {
   "cell_type": "markdown",
   "metadata": {},
   "source": [
    "# 12. ¡Qué desorden en la librería!\n",
    "\n",
    "## Bucle `for` para crear nuevas listas\n",
    "\n",
    "[Learn Python with Jupyter](https://learnpythonwithjupyter.com/) (Aprende Python con Jupyter): [Serena Bonaretti](https://sbonaretti.github.io/)   \n",
    "Tradución al español mexicano (es-MX): [Rodrigo Ernesto Álvarez Aguilera](https://incognia.github.io/)   \n",
    "Licencia de contenido: [CC BY-NC-SA](https://creativecommons.org/licenses/by-nc-sa/2.0/). Licencia de código: [GNU-GPL v3](https://www.gnu.org/licenses/gpl-3.0.en.html)  \n",
    "\n",
    "---"
   ]
  },
  {
   "cell_type": "markdown",
   "metadata": {},
   "source": [
    "- Hoy había muchos clientes en la tienda, y mezclaron los libros cuyos autores tienen apellidos que empiezan con A y S:"
   ]
  },
  {
   "cell_type": "code",
   "execution_count": null,
   "metadata": {},
   "outputs": [],
   "source": [
    "autores = [\"Alcott\", \"Saint-Exupery\", \"Arendt\", \"Sepúlveda\", \"Shakespeare\"]"
   ]
  },
  {
   "cell_type": "markdown",
   "metadata": {},
   "source": [
    "- Así que debes colocar los libros cuyos autores tienen apellidos que comienzan con A en un estante y los libros cuyos autores tienen apellidos que comienzan con S en otro estante:"
   ]
  },
  {
   "cell_type": "code",
   "execution_count": null,
   "metadata": {},
   "outputs": [],
   "source": [
    "# Inicializa las variables como listas vacías\n",
    "estante_a = []\n",
    "estante_s = []\n",
    "\n",
    "# Para cada posición en la lista\n",
    "for i in range(len(autores)):\n",
    "    \n",
    "    # Imprime el autor actual\n",
    "    print(\"El autor actual es: \" + autores[i])\n",
    "    \n",
    "    # Obtiene la inicial del autor actual\n",
    "    inicial_autor = autores[i][0]\n",
    "    print(\"La inicial del autor es: \" + inicial_autor)\n",
    "    \n",
    "    # Si la inicial del autor es A\n",
    "    if inicial_autor == \"A\":\n",
    "        # Agrega el autor al estante A\n",
    "        estante_a.append(autores[i])\n",
    "        print(\"El estante A ahora contiene: \" + str(estante_a) + \"\\n\")\n",
    "    \n",
    "    # En caso contrario (la inicial del autor no es A)\n",
    "    else:\n",
    "        # Agrega el autor al estante S\n",
    "        estante_s = estante_s + [autores[i]]\n",
    "        print(\"El estante S ahora contiene: \" + str(estante_s) + \"\\n\")\n",
    "\n",
    "# Imprime los estantes finales\n",
    "print(\"Los autores en el estante A son: \" + str(estante_a))\n",
    "print(\"Los autores en el estante S son: \" + str(estante_s))\n"
   ]
  }
 ],
 "metadata": {
  "kernelspec": {
   "display_name": "Python 3 (ipykernel)",
   "language": "python",
   "name": "python3"
  },
  "language_info": {
   "codemirror_mode": {
    "name": "ipython",
    "version": 3
   },
   "file_extension": ".py",
   "mimetype": "text/x-python",
   "name": "python",
   "nbconvert_exporter": "python",
   "pygments_lexer": "ipython3",
   "version": "3.10.12"
  },
  "widgets": {
   "application/vnd.jupyter.widget-state+json": {
    "state": {},
    "version_major": 2,
    "version_minor": 0
   }
  }
 },
 "nbformat": 4,
 "nbformat_minor": 4
}
