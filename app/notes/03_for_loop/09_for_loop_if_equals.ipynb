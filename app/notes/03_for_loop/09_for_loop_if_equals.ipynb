{
 "cells": [
  {
   "cell_type": "markdown",
   "metadata": {},
   "source": [
    "# 9. En el zoológico\n",
    "## Bucle `for` con `if`... `==` ... / `else`\n",
    "\n",
    "[Learn Python with Jupyter](https://learnpythonwithjupyter.com/) (Aprende Python con Jupyter): [Serena Bonaretti](https://sbonaretti.github.io/)   \n",
    "Tradución al español mexicano (es-MX): [Rodrigo Ernesto Álvarez Aguilera](https://incognia.github.io/)   \n",
    "Licencia de contenido: [CC BY-NC-SA](https://creativecommons.org/licenses/by-nc-sa/2.0/). Licencia de código: [GNU-GPL v3](https://www.gnu.org/licenses/gpl-3.0.en.html)  \n",
    "\n",
    "---"
   ]
  },
  {
   "cell_type": "markdown",
   "metadata": {},
   "source": [
    "- Estás en el zoológico y anotas una lista de algunos animales que ves:"
   ]
  },
  {
   "cell_type": "code",
   "execution_count": null,
   "metadata": {},
   "outputs": [],
   "source": [
    "animales = [\"elefante\", \"pingüino\", \"delfín\"]\n",
    "print(animales)"
   ]
  },
  {
   "cell_type": "markdown",
   "metadata": {},
   "source": [
    "- Luego imprimes los animales uno por uno:"
   ]
  },
  {
   "cell_type": "code",
   "execution_count": null,
   "metadata": {},
   "outputs": [],
   "source": [
    "# Para cada posición en la lista\n",
    "for i in range(0, len(animales)):\n",
    "    print(\"-- Inicio del bucle --\")\n",
    "    # Imprime cada elemento y su posición\n",
    "    print(\"El elemento en la posición \" + str(i) + \" es \" + animales[i])"
   ]
  },
  {
   "cell_type": "markdown",
   "metadata": {},
   "source": [
    "- Realmente querías ver un pingüino:"
   ]
  },
  {
   "cell_type": "code",
   "execution_count": null,
   "metadata": {},
   "outputs": [],
   "source": [
    "querias_ver = \"pingüino\""
   ]
  },
  {
   "cell_type": "markdown",
   "metadata": {},
   "source": [
    "- Una vez en casa, le cuentas a tu amigo los animales que viste, especificando cuál de ellos realmente querías ver:"
   ]
  },
  {
   "cell_type": "code",
   "execution_count": null,
   "metadata": {},
   "outputs": [],
   "source": [
    "# Para cada posición en la lista\n",
    "for i in range(0, len(animales)):\n",
    "    # Si el animal actual es el que realmente querías ver\n",
    "    if animales[i] == querias_ver:\n",
    "        # Imprime que viste ese animal y que realmente querías verlo\n",
    "        print(\"Vi un \" + animales[i] + \" y realmente quería verlo\")\n",
    "    # Si el animal actual no es el que realmente querías ver\n",
    "    else:\n",
    "        # Simplemente imprime que lo viste\n",
    "        print(\"Vi un \" + animales[i])\n"
   ]
  }
 ],
 "metadata": {
  "kernelspec": {
   "display_name": "Python 3 (ipykernel)",
   "language": "python",
   "name": "python3"
  },
  "language_info": {
   "codemirror_mode": {
    "name": "ipython",
    "version": 3
   },
   "file_extension": ".py",
   "mimetype": "text/x-python",
   "name": "python",
   "nbconvert_exporter": "python",
   "pygments_lexer": "ipython3",
   "version": "3.10.12"
  },
  "widgets": {
   "application/vnd.jupyter.widget-state+json": {
    "state": {},
    "version_major": 2,
    "version_minor": 0
   }
  }
 },
 "nbformat": 4,
 "nbformat_minor": 4
}
