{
 "cells": [
  {
   "cell_type": "markdown",
   "metadata": {},
   "source": [
    "# 11. Limpiando la lista de correo\n",
    "\n",
    "## Bucle `for` para cambiar elementos de la lista\n",
    "\n",
    "[Learn Python with Jupyter](https://learnpythonwithjupyter.com/) (Aprende Python con Jupyter): [Serena Bonaretti](https://sbonaretti.github.io/)   \n",
    "Tradución al español mexicano (es-MX): [Rodrigo Ernesto Álvarez Aguilera](https://incognia.github.io/)   \n",
    "Licencia de contenido: [CC BY-NC-SA](https://creativecommons.org/licenses/by-nc-sa/2.0/). Licencia de código: [GNU-GPL v3](https://www.gnu.org/licenses/gpl-3.0.en.html)  \n",
    "\n",
    "---"
   ]
  },
  {
   "cell_type": "markdown",
   "metadata": {},
   "source": [
    "- Eres responsable de un boletín informativo y debes enviar un correo electrónico a las siguientes direcciones:"
   ]
  },
  {
   "cell_type": "code",
   "execution_count": null,
   "metadata": {},
   "outputs": [],
   "source": [
    "email = [\"SARAH.BROWN@GMAIL.com\", \"Pablo.Hernandez@live.com\", \"LI.Min@hotmail.com\"] "
   ]
  },
  {
   "cell_type": "markdown",
   "metadata": {},
   "source": [
    "- Por cuestiones de consistencia, deseas que todas las direcciones de correo electrónico estén en minúsculas. Por lo tanto, las cambias:"
   ]
  },
  {
   "cell_type": "code",
   "execution_count": null,
   "metadata": {},
   "outputs": [],
   "source": [
    "# Para cada posición en la lista\n",
    "for i in range(0, len(email)):\n",
    "    \n",
    "    print(\"-> Bucle: \" + str(i))\n",
    "    \n",
    "    # Imprime el elemento antes del cambio\n",
    "    print(\"Antes del cambio, el elemento en la posición \" + str(i) + \" es: \" + email[i])\n",
    "    \n",
    "    # Cambia el elemento y reasigna\n",
    "    email[i] = email[i].lower()\n",
    "    \n",
    "    # Imprime el elemento después del cambio\n",
    "    print(\"Después del cambio, el elemento en la posición \" + str(i) + \" es: \" + email[i])\n",
    "    \n",
    "# Imprime la lista modificada\n",
    "print(\"Ahora la lista es: \" + str(email))"
   ]
  }
 ],
 "metadata": {
  "kernelspec": {
   "display_name": "Python 3 (ipykernel)",
   "language": "python",
   "name": "python3"
  },
  "language_info": {
   "codemirror_mode": {
    "name": "ipython",
    "version": 3
   },
   "file_extension": ".py",
   "mimetype": "text/x-python",
   "name": "python",
   "nbconvert_exporter": "python",
   "pygments_lexer": "ipython3",
   "version": "3.10.12"
  },
  "widgets": {
   "application/vnd.jupyter.widget-state+json": {
    "state": {},
    "version_major": 2,
    "version_minor": 0
   }
  }
 },
 "nbformat": 4,
 "nbformat_minor": 4
}
