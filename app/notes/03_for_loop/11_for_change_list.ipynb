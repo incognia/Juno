{
 "cells": [
  {
   "cell_type": "markdown",
   "metadata": {},
   "source": [
    "# 11. Cleaning the mailing list\n",
    "\n",
    "## For loop to change list elements\n",
    "\n",
    "[Learn Python with Jupyter](https://learnpythonwithjupyter.com/) by [Serena Bonaretti](https://sbonaretti.github.io/)   \n",
    "Narrative license: [CC BY-NC-SA](https://creativecommons.org/licenses/by-nc-sa/2.0/). Code license: [GNU-GPL v3](https://www.gnu.org/licenses/gpl-3.0.en.html)  \n"
   ]
  },
  {
   "cell_type": "markdown",
   "metadata": {
    "jp-MarkdownHeadingCollapsed": true,
    "tags": []
   },
   "source": [
    "--- "
   ]
  },
  {
   "cell_type": "markdown",
   "metadata": {},
   "source": [
    "- You are responsible for a newsletter, and you have to send an email to the following addresses:"
   ]
  },
  {
   "cell_type": "code",
   "execution_count": null,
   "metadata": {},
   "outputs": [],
   "source": [
    "email = [\"SARAH.BROWN@GMAIL.com\", \"Pablo.Hernandez@live.com\", \"LI.Min@hotmail.com\"] "
   ]
  },
  {
   "cell_type": "markdown",
   "metadata": {},
   "source": [
    "- For the sake of consistency, you want all email addresses to be lowercase. So you change them:"
   ]
  },
  {
   "cell_type": "code",
   "execution_count": null,
   "metadata": {},
   "outputs": [],
   "source": [
    "# for each position in the list\n",
    "for i in range (0, len(email)):\n",
    "    \n",
    "    print (\"-> Loop: \" + str(i))\n",
    "    \n",
    "    # print element before the change\n",
    "    print (\"Before the change, the element in position \" + str(i) + \" is: \" + email[i])\n",
    "    \n",
    "    # change element and reassign \n",
    "    email[i] = email[i].lower()\n",
    "    \n",
    "    # print element after the change \n",
    "    print (\"After the change, the element in position \" + str(i) + \" is: \" + email[i])\n",
    "    \n",
    "# print the modified list\n",
    "print (\"Now the list is: \" + str(email))"
   ]
  }
 ],
 "metadata": {
  "kernelspec": {
   "display_name": "Python 3 (ipykernel)",
   "language": "python",
   "name": "python3"
  },
  "language_info": {
   "codemirror_mode": {
    "name": "ipython",
    "version": 3
   },
   "file_extension": ".py",
   "mimetype": "text/x-python",
   "name": "python",
   "nbconvert_exporter": "python",
   "pygments_lexer": "ipython3",
   "version": "3.9.13"
  },
  "widgets": {
   "application/vnd.jupyter.widget-state+json": {
    "state": {},
    "version_major": 2,
    "version_minor": 0
   }
  }
 },
 "nbformat": 4,
 "nbformat_minor": 4
}
