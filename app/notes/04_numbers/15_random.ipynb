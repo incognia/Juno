{
 "cells": [
  {
   "cell_type": "markdown",
   "metadata": {},
   "source": [
    "# 15. Galletas de la suerte\n",
    "\n",
    "## El módulo de Python *random*\n",
    "\n",
    "[Learn Python with Jupyter](https://learnpythonwithjupyter.com/) (Aprende Python con Jupyter): [Serena Bonaretti](https://sbonaretti.github.io/)   \n",
    "Tradución al español mexicano (es-MX): [Rodrigo Ernesto Álvarez Aguilera](https://incognia.github.io/)   \n",
    "Licencia de contenido: [CC BY-NC-SA](https://creativecommons.org/licenses/by-nc-sa/2.0/). Licencia de código: [GNU-GPL v3](https://www.gnu.org/licenses/gpl-3.0.en.html)  \n",
    "\n",
    "---"
   ]
  },
  {
   "cell_type": "markdown",
   "metadata": {},
   "source": [
    "- Te encuentras en un restaurante chino, y al final de la comida, te dan una galleta de la suerte. Solo quedan tres galletas de la suerte. Cada una de ellas contiene un mensaje:"
   ]
  },
  {
   "cell_type": "code",
   "execution_count": null,
   "metadata": {},
   "outputs": [],
   "source": [
    "galletas_suerte = [\"El hombre en la cima de la montaña no cayó allí\",\n",
    "                   \"Si viene el invierno, ¿puede estar lejos la primavera?\",\n",
    "                   \"La tierra siempre está en la mente de un pájaro volador\"]"
   ]
  },
  {
   "cell_type": "markdown",
   "metadata": {},
   "source": [
    "- ¿Qué galleta de la suerte obtendrás? ¡Deja que la computadora decida! Para hacerlo, la computadora necesita un módulo llamado random:"
   ]
  },
  {
   "cell_type": "code",
   "execution_count": null,
   "metadata": {},
   "outputs": [],
   "source": [
    "import random"
   ]
  },
  {
   "cell_type": "markdown",
   "metadata": {},
   "source": [
    "- Aquí tienes tu mensaje cuando la computadora elige un índice del mensaje:"
   ]
  },
  {
   "cell_type": "code",
   "execution_count": null,
   "metadata": {},
   "outputs": [],
   "source": [
    "# Elije un índice del mensaje\n",
    "indice_mensaje = random.randint(0, len(galletas_suerte) - 1)\n",
    "print(\"Índice del mensaje:\", indice_mensaje)\n",
    "\n",
    "# Obtiene el mensaje\n",
    "mensaje = galletas_suerte[indice_mensaje]\n",
    "print(\"Mensaje de la galleta de la suerte:\", mensaje)"
   ]
  },
  {
   "cell_type": "markdown",
   "metadata": {},
   "source": [
    "- Y aquí está tu mensaje cuando la computadora elige directamente un mensaje:"
   ]
  },
  {
   "cell_type": "code",
   "execution_count": null,
   "metadata": {},
   "outputs": [],
   "source": [
    "# Elije un mensaje\n",
    "mensaje = random.choice(galletas_suerte)\n",
    "print(\"Mensaje de la galleta de la suerte:\", mensaje)"
   ]
  }
 ],
 "metadata": {
  "kernelspec": {
   "display_name": "Python 3 (ipykernel)",
   "language": "python",
   "name": "python3"
  },
  "language_info": {
   "codemirror_mode": {
    "name": "ipython",
    "version": 3
   },
   "file_extension": ".py",
   "mimetype": "text/x-python",
   "name": "python",
   "nbconvert_exporter": "python",
   "pygments_lexer": "ipython3",
   "version": "3.10.12"
  },
  "widgets": {
   "application/vnd.jupyter.widget-state+json": {
    "state": {},
    "version_major": 2,
    "version_minor": 0
   }
  }
 },
 "nbformat": 4,
 "nbformat_minor": 4
}
