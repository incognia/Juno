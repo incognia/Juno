{
 "cells": [
  {
   "cell_type": "markdown",
   "metadata": {},
   "source": [
    "# 14. Jugando con números\n",
    "\n",
    "## Operaciones comunes con listas de números\n",
    "\n",
    "[Learn Python with Jupyter](https://learnpythonwithjupyter.com/) (Aprende Python con Jupyter): [Serena Bonaretti](https://sbonaretti.github.io/)   \n",
    "Tradución al español mexicano (es-MX): [Rodrigo Ernesto Álvarez Aguilera](https://incognia.github.io/)   \n",
    "Licencia de contenido: [CC BY-NC-SA](https://creativecommons.org/licenses/by-nc-sa/2.0/). Licencia de código: [GNU-GPL v3](https://www.gnu.org/licenses/gpl-3.0.en.html)  \n",
    "\n",
    "---"
   ]
  },
  {
   "cell_type": "markdown",
   "metadata": {
    "tags": []
   },
   "source": [
    "## 1. Modificando números según condiciones"
   ]
  },
  {
   "cell_type": "markdown",
   "metadata": {},
   "source": [
    "- Dada la siguiente lista de números:"
   ]
  },
  {
   "cell_type": "code",
   "execution_count": null,
   "metadata": {},
   "outputs": [],
   "source": [
    "numeros = [12, 3, 15, 7, 18]"
   ]
  },
  {
   "cell_type": "markdown",
   "metadata": {},
   "source": [
    "- Resta 1 a los números mayores o iguales a 10 y suma 2 a los números que sean menores a 10:"
   ]
  },
  {
   "cell_type": "code",
   "execution_count": null,
   "metadata": {},
   "outputs": [],
   "source": [
    "# Para cada posición en la lista\n",
    "for i in range(len(numeros)):\n",
    "\n",
    "    # Si el número actual es mayor o igual a 10\n",
    "    if numeros[i] >= 10:\n",
    "        # Resta 1\n",
    "        numeros[i] = numeros[i] - 1\n",
    "    # En caso contrario\n",
    "    else:\n",
    "        # Suma 2\n",
    "        numeros[i] = numeros[i] + 2\n",
    "\n",
    "# Imprime el resultado final\n",
    "print(numeros)"
   ]
  },
  {
   "cell_type": "markdown",
   "metadata": {},
   "source": [
    "---\n",
    "## 2. Separando números pares e impares"
   ]
  },
  {
   "cell_type": "markdown",
   "metadata": {},
   "source": [
    "- Dada la siguiente lista de números:"
   ]
  },
  {
   "cell_type": "code",
   "execution_count": null,
   "metadata": {},
   "outputs": [],
   "source": [
    "numeros = [2, 10, 7, 5, 0, 9] "
   ]
  },
  {
   "cell_type": "markdown",
   "metadata": {},
   "source": [
    "- Sepáralos en dos listas diferentes, una para los números impares y otra para los números pares:"
   ]
  },
  {
   "cell_type": "code",
   "execution_count": null,
   "metadata": {},
   "outputs": [],
   "source": [
    "# Inicializa listas vacías\n",
    "pares = []\n",
    "impares = []\n",
    "\n",
    "# Para cada posición en la lista\n",
    "for i in range(len(numeros)):\n",
    "\n",
    "    # Si el número actual es par\n",
    "    if numeros[i] % 2 == 0:\n",
    "        # Agrégalo a la lista \"pares\"\n",
    "        pares.append(numeros[i])\n",
    "    # En caso contrario\n",
    "    else:\n",
    "        # Agrégalo a la lista \"impares\"\n",
    "        impares.append(numeros[i])\n",
    "\n",
    "# Verifica los resultados finales\n",
    "print(\"Números pares:\", pares)\n",
    "print(\"Números impares:\", impares)"
   ]
  },
  {
   "cell_type": "markdown",
   "metadata": {},
   "source": [
    "---\n",
    "## 3. Encontrando el máximo de una lista de números"
   ]
  },
  {
   "cell_type": "markdown",
   "metadata": {},
   "source": [
    "- Dada la siguiente lista de números:"
   ]
  },
  {
   "cell_type": "code",
   "execution_count": null,
   "metadata": {},
   "outputs": [],
   "source": [
    "numeros = [2, -5, 34, 70, 22] "
   ]
  },
  {
   "cell_type": "markdown",
   "metadata": {},
   "source": [
    "- Encuentra el número más grande en la lista:"
   ]
  },
  {
   "cell_type": "code",
   "execution_count": null,
   "metadata": {},
   "outputs": [],
   "source": [
    "# Inicializa el máximo con el primer elemento de la lista\n",
    "maximo = numeros[0]\n",
    "\n",
    "# Para cada posición en la lista a partir del segundo\n",
    "for i in range(1, len(numeros)):\n",
    "\n",
    "    # Si el número actual es mayor que el máximo actual\n",
    "    if numeros[i] > maximo:\n",
    "        # Asigna el número como el nuevo máximo\n",
    "        maximo = numeros[i]\n",
    "\n",
    "# Imprime el valor máximo de la lista\n",
    "print(\"El valor máximo es:\", maximo)"
   ]
  }
 ],
 "metadata": {
  "kernelspec": {
   "display_name": "Python 3 (ipykernel)",
   "language": "python",
   "name": "python3"
  },
  "language_info": {
   "codemirror_mode": {
    "name": "ipython",
    "version": 3
   },
   "file_extension": ".py",
   "mimetype": "text/x-python",
   "name": "python",
   "nbconvert_exporter": "python",
   "pygments_lexer": "ipython3",
   "version": "3.9.13"
  },
  "widgets": {
   "application/vnd.jupyter.widget-state+json": {
    "state": {},
    "version_major": 2,
    "version_minor": 0
   }
  }
 },
 "nbformat": 4,
 "nbformat_minor": 4
}
