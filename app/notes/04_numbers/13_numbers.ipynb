{
 "cells": [
  {
   "cell_type": "markdown",
   "metadata": {},
   "source": [
    "# 13. Implementando una calculadora\n",
    "\n",
    "## Números enteros, números decimales y operaciones aritméticas\n",
    "\n",
    "[Learn Python with Jupyter](https://learnpythonwithjupyter.com/) (Aprende Python con Jupyter): [Serena Bonaretti](https://sbonaretti.github.io/)   \n",
    "Tradución al español mexicano (es-MX): [Rodrigo Ernesto Álvarez Aguilera](https://incognia.github.io/)   \n",
    "Licencia de contenido: [CC BY-NC-SA](https://creativecommons.org/licenses/by-nc-sa/2.0/). Licencia de código: [GNU-GPL v3](https://www.gnu.org/licenses/gpl-3.0.en.html)  \n",
    "\n",
    "---"
   ]
  },
  {
   "cell_type": "markdown",
   "metadata": {},
   "source": [
    "## 1. ¿Cuáles son las operaciones aritméticas en Python?"
   ]
  },
  {
   "cell_type": "markdown",
   "metadata": {},
   "source": [
    "In En Python, existen 7 operadores aritméticos. Vamos a probarlos en las siguientes celdas:\n",
    "1. Suma: `+`"
   ]
  },
  {
   "cell_type": "code",
   "execution_count": null,
   "metadata": {},
   "outputs": [],
   "source": [
    "4+3"
   ]
  },
  {
   "cell_type": "markdown",
   "metadata": {},
   "source": [
    "2. Resta: `-` "
   ]
  },
  {
   "cell_type": "code",
   "execution_count": null,
   "metadata": {},
   "outputs": [],
   "source": [
    "6-2"
   ]
  },
  {
   "cell_type": "markdown",
   "metadata": {},
   "source": [
    "3. Multiplicación: `*` "
   ]
  },
  {
   "cell_type": "code",
   "execution_count": null,
   "metadata": {},
   "outputs": [],
   "source": [
    "6*5"
   ]
  },
  {
   "cell_type": "markdown",
   "metadata": {},
   "source": [
    "4. Potenciación: `**` "
   ]
  },
  {
   "cell_type": "code",
   "execution_count": null,
   "metadata": {},
   "outputs": [],
   "source": [
    "2**3"
   ]
  },
  {
   "cell_type": "markdown",
   "metadata": {},
   "source": [
    "5. División: `/` "
   ]
  },
  {
   "cell_type": "code",
   "execution_count": null,
   "metadata": {},
   "outputs": [],
   "source": [
    "10/5"
   ]
  },
  {
   "cell_type": "markdown",
   "metadata": {},
   "source": [
    "6. División entera: `//`"
   ]
  },
  {
   "cell_type": "code",
   "execution_count": null,
   "metadata": {},
   "outputs": [],
   "source": [
    "7//4"
   ]
  },
  {
   "cell_type": "markdown",
   "metadata": {},
   "source": [
    "7. Módulo: `%` "
   ]
  },
  {
   "cell_type": "code",
   "execution_count": null,
   "metadata": {},
   "outputs": [],
   "source": [
    "7.5%4"
   ]
  },
  {
   "cell_type": "markdown",
   "metadata": {},
   "source": [
    "---\n",
    "## 2. ¿Cómo le pedimos a un usuario que introduzca un número?"
   ]
  },
  {
   "cell_type": "markdown",
   "metadata": {},
   "source": [
    "- Pide a un usuario que introduzca un número, asígnalo a una variable y luego imprime el valor de la variable:"
   ]
  },
  {
   "cell_type": "code",
   "execution_count": null,
   "metadata": {},
   "outputs": [],
   "source": [
    "numero = input(\"Ingresa un número: \")\n",
    "print(numero)"
   ]
  },
  {
   "cell_type": "markdown",
   "metadata": {},
   "source": [
    "- Verifica el tipo (type) de la variable `numero` de la siguiente manera:"
   ]
  },
  {
   "cell_type": "code",
   "execution_count": null,
   "metadata": {},
   "outputs": [],
   "source": [
    "type(numero)"
   ]
  },
  {
   "cell_type": "markdown",
   "metadata": {},
   "source": [
    "- Transforma la variable `numero` en un entero (integer), imprímela y verifica su tipo de la siguiente manera:"
   ]
  },
  {
   "cell_type": "code",
   "execution_count": null,
   "metadata": {},
   "outputs": [],
   "source": [
    "numero = int(numero)\n",
    "print (numero)\n",
    "type(numero)"
   ]
  },
  {
   "cell_type": "markdown",
   "metadata": {},
   "source": [
    "- Para transformar la variable `numero` en un número decimal (float), imprimirlo y verificar su tipo, puedes hacerlo de la siguiente manera:"
   ]
  },
  {
   "cell_type": "code",
   "execution_count": null,
   "metadata": {},
   "outputs": [],
   "source": [
    "numero = float(numero)\n",
    "print (numero)\n",
    "type (numero)"
   ]
  },
  {
   "cell_type": "markdown",
   "metadata": {},
   "source": [
    "- Ya sabes cómo transformar un número en una cadena de caracteres. ¿Cómo lo haces?"
   ]
  },
  {
   "cell_type": "code",
   "execution_count": null,
   "metadata": {},
   "outputs": [],
   "source": [
    "numero = str(numero)\n",
    "print (numero)\n",
    "type(numero)"
   ]
  },
  {
   "cell_type": "markdown",
   "metadata": {},
   "source": [
    "---\n",
    "## 3. Vamos a crear la calculadora"
   ]
  },
  {
   "cell_type": "markdown",
   "metadata": {},
   "source": [
    "- Pregunta al usuario por el primer valor de entrada:"
   ]
  },
  {
   "cell_type": "code",
   "execution_count": null,
   "metadata": {},
   "outputs": [],
   "source": [
    "primer_numero = input(\"Ingresa el primer número: \")\n",
    "primer_numero = float(primer_numero)\n",
    "type(primer_numero)"
   ]
  },
  {
   "cell_type": "markdown",
   "metadata": {},
   "source": [
    "- Pregunta al usuario por el segundo valor de entrada:"
   ]
  },
  {
   "cell_type": "code",
   "execution_count": null,
   "metadata": {},
   "outputs": [],
   "source": [
    "operador = input(\"Inserta un operador aritmético: \")\n",
    "type(operador)"
   ]
  },
  {
   "cell_type": "markdown",
   "metadata": {},
   "source": [
    "- Pregunta al usuario por el tercer valor de entrada:"
   ]
  },
  {
   "cell_type": "code",
   "execution_count": null,
   "metadata": {},
   "outputs": [],
   "source": [
    "segundo_numero = float(input(\"Ingresa el segundo número: \"))\n",
    "type(segundo_numero)"
   ]
  },
  {
   "cell_type": "markdown",
   "metadata": {},
   "source": [
    "- Vamos a escribir el núcleo de la calculadora:"
   ]
  },
  {
   "cell_type": "code",
   "execution_count": null,
   "metadata": {},
   "outputs": [],
   "source": [
    "if operador == \"+\":\n",
    "    resultado = primer_numero + segundo_numero\n",
    "elif operador == \"-\":\n",
    "    resultado = primer_numero - segundo_numero\n",
    "elif operador == \"*\":\n",
    "    resultado = primer_numero * segundo_numero\n",
    "elif operador == \"**\":\n",
    "    resultado = primer_numero / segundo_numero\n",
    "elif operador == \"/\":\n",
    "    resultado = primer_numero ** segundo_numero\n",
    "elif operador == \"//\":\n",
    "    resultado = primer_numero // segundo_numero\n",
    "elif operador == \"%\":\n",
    "    resultado = primer_numero % segundo_numero\n",
    "else:\n",
    "    print(\"No ingresaste un operador aritmético\")\n",
    "print(resultado)"
   ]
  },
  {
   "cell_type": "markdown",
   "metadata": {},
   "source": [
    "- Finalmente, vamos a imprimir el resultado:"
   ]
  },
  {
   "cell_type": "code",
   "execution_count": null,
   "metadata": {},
   "outputs": [],
   "source": [
    "print(str(primer_numero) + \" \" + operador + \" \" + str(segundo_numero) + \" = \" + str(resultado))"
   ]
  },
  {
   "cell_type": "markdown",
   "metadata": {},
   "source": [
    "### ¡Hagamos una calculadora real!\n",
    "\n",
    "- Fusiona el código que escribiste arriba en la celda de abajo:"
   ]
  },
  {
   "cell_type": "code",
   "execution_count": null,
   "metadata": {},
   "outputs": [],
   "source": [
    "# Primer entrada\n",
    "primer_numero = float(input(\"Ingresa el primer número: \")) # Cambio en relación al código anterior\n",
    "\n",
    "# Operador\n",
    "operador = input(\"Ingresa un operador aritmético: \")\n",
    "\n",
    "# Segunda entrada\n",
    "segundo_numero = float(input(\"Escribe el segundo número: \"))\n",
    "\n",
    "# Cálculos\n",
    "if operador == \"+\":\n",
    "    resultado = primer_numero + segundo_numero\n",
    "elif operador == \"-\":\n",
    "    resultado = primer_numero - segundo_numero\n",
    "elif operador == \"*\":\n",
    "    resultado = primer_numero * segundo_numero\n",
    "elif operador == \"**\":\n",
    "    resultado = primer_numero / segundo_numero\n",
    "elif operador == \"/\":\n",
    "    resultado = primer_numero ** segundo_numero\n",
    "elif operador == \"//\":\n",
    "    resultado = primer_numero // segundo_numero\n",
    "elif operador == \"%\":\n",
    "    resultado = primer_numero % segundo_numero\n",
    "else:\n",
    "    print(\"No ingresaste un operador aritmético. Por favor, ejecuta la celda nuevamente:\")\n",
    "\n",
    "# Imprimir el resultado\n",
    "print(str(primer_numero) + \" \" + operador + \" \" + str(segundo_numero) + \" = \" + str(resultado))"
   ]
  }
 ],
 "metadata": {
  "kernelspec": {
   "display_name": "Python 3 (ipykernel)",
   "language": "python",
   "name": "python3"
  },
  "language_info": {
   "codemirror_mode": {
    "name": "ipython",
    "version": 3
   },
   "file_extension": ".py",
   "mimetype": "text/x-python",
   "name": "python",
   "nbconvert_exporter": "python",
   "pygments_lexer": "ipython3",
   "version": "3.10.12"
  },
  "widgets": {
   "application/vnd.jupyter.widget-state+json": {
    "state": {},
    "version_major": 2,
    "version_minor": 0
   }
  }
 },
 "nbformat": 4,
 "nbformat_minor": 4
}
