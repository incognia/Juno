{
 "cells": [
  {
   "cell_type": "markdown",
   "metadata": {},
   "source": [
    "# 16. Piedra, papel, tijeras\n",
    "\n",
    "## Introducción a los algoritmos\n",
    "\n",
    "[Learn Python with Jupyter](https://learnpythonwithjupyter.com/) (Aprende Python con Jupyter): [Serena Bonaretti](https://sbonaretti.github.io/)   \n",
    "Tradución al español mexicano (es-MX): [Rodrigo Ernesto Álvarez Aguilera](https://incognia.github.io/)   \n",
    "Licencia de contenido: [CC BY-NC-SA](https://creativecommons.org/licenses/by-nc-sa/2.0/). Licencia de código: [GNU-GPL v3](https://www.gnu.org/licenses/gpl-3.0.en.html)  \n",
    "\n",
    "---"
   ]
  },
  {
   "cell_type": "markdown",
   "metadata": {},
   "source": [
    "### 1. Elección de la computadora\n",
    "- Haz que la computadora elija entre *piedra*, *papel* o *tijeras*:"
   ]
  },
  {
   "cell_type": "code",
   "execution_count": null,
   "metadata": {},
   "outputs": [],
   "source": [
    "import random\n",
    "\n",
    "# Lista de posibilidades del juego\n",
    "posibilidades = [\"piedra\", \"papel\", \"tijeras\"]\n",
    "\n",
    "# Elección aleatoria de la computadora\n",
    "eleccion_computadora = random.choice(posibilidades)\n",
    "print(eleccion_computadora)"
   ]
  },
  {
   "cell_type": "markdown",
   "metadata": {},
   "source": [
    "### 2. Elección del jugador\n",
    "- Haz que el jugador elija entre *piedra*, *papel* o *tijeras*:"
   ]
  },
  {
   "cell_type": "code",
   "execution_count": null,
   "metadata": {},
   "outputs": [],
   "source": [
    "# Pidiendo al jugador que haga su elección\n",
    "eleccion_jugador = input(\"Piedra, papel o tijeras?\")\n",
    "print(eleccion_jugador)"
   ]
  },
  {
   "cell_type": "markdown",
   "metadata": {},
   "source": [
    "### 3. Determina quién gana\n",
    "- Si la computadora elige *piedra*:"
   ]
  },
  {
   "cell_type": "code",
   "execution_count": null,
   "metadata": {},
   "outputs": [],
   "source": [
    "if eleccion_computadora == \"piedra\":\n",
    "\n",
    "    # compara con la elección del jugador\n",
    "    if eleccion_jugador == \"piedra\":\n",
    "        print(\"¡Empate!\")\n",
    "    elif eleccion_jugador == \"papel\":\n",
    "        print(\"¡Tú ganas!\")\n",
    "    else:\n",
    "        print(\"¡La computadora gana!\")"
   ]
  },
  {
   "cell_type": "markdown",
   "metadata": {},
   "source": [
    "- Si la computadora elige *papel*:"
   ]
  },
  {
   "cell_type": "code",
   "execution_count": null,
   "metadata": {},
   "outputs": [],
   "source": [
    "if eleccion_computadora == \"papel\":\n",
    "\n",
    "    # compara con la elección del jugador\n",
    "    if eleccion_jugador == \"papel\":\n",
    "        print(\"¡Empate!\")\n",
    "    elif eleccion_jugador == \"tijeras\":\n",
    "        print(\"¡Tú ganas!\")\n",
    "    else:\n",
    "        print(\"¡La computadora gana!\")"
   ]
  },
  {
   "cell_type": "markdown",
   "metadata": {},
   "source": [
    "- Si la computadora elige *tijeras*:"
   ]
  },
  {
   "cell_type": "code",
   "execution_count": null,
   "metadata": {},
   "outputs": [],
   "source": [
    "if eleccion_computadora == \"tijeras\":\n",
    "\n",
    "    # compara con la elección del jugador\n",
    "    if eleccion_jugador == \"tijeras\":\n",
    "        print(\"¡Empate!\")\n",
    "    elif eleccion_jugador == \"piedra\":\n",
    "        print(\"¡Tú ganas!\")\n",
    "    else:\n",
    "        print(\"No ganaste\")"
   ]
  },
  {
   "cell_type": "markdown",
   "metadata": {},
   "source": [
    "### Combinando el código\n",
    "- Vamos a combinar el código:"
   ]
  },
  {
   "cell_type": "code",
   "execution_count": null,
   "metadata": {},
   "outputs": [],
   "source": [
    "import random\n",
    "\n",
    "# Lista de posibilidades del juego\n",
    "posibilidades = [\"piedra\", \"papel\", \"tijeras\"]\n",
    "\n",
    "# Elección aleatoria de la computadora\n",
    "eleccion_computadora = random.choice(posibilidades)\n",
    "\n",
    "# Elección del jugador\n",
    "eleccion_jugador = input(\"Piedra, papel o tijeras?\")\n",
    "\n",
    "# Determinar quién gana\n",
    "# Si la computadora elige piedra\n",
    "if eleccion_computadora == \"piedra\":\n",
    "    # Compara con la elección del jugador\n",
    "    if eleccion_jugador == \"piedra\":\n",
    "        print(\"¡Empate!\")\n",
    "    elif eleccion_jugador == \"papel\":\n",
    "        print(\"¡Tú ganas!\")\n",
    "    else:\n",
    "        print(\"¡La computadora gana!\")\n",
    "\n",
    "# Si la computadora elige papel\n",
    "if eleccion_computadora == \"papel\":\n",
    "    # Compara con la elección del jugador\n",
    "    if eleccion_jugador == \"papel\":\n",
    "        print(\"¡Empate!\")\n",
    "    elif eleccion_jugador == \"tijeras\":\n",
    "        print(\"¡Tú ganas!\")\n",
    "    else:\n",
    "        print(\"¡La computadora gana!\")\n",
    "\n",
    "# Si la computadora elige tijeras\n",
    "if eleccion_computadora == \"tijeras\":\n",
    "    # Compara con la elección del jugador\n",
    "    if eleccion_jugador == \"tijeras\":\n",
    "        print(\"¡Empate!\")\n",
    "    elif eleccion_jugador == \"piedra\":\n",
    "        print(\"¡Tú ganas!\")\n",
    "    else:\n",
    "        print(\"No ganaste\")"
   ]
  }
 ],
 "metadata": {
  "kernelspec": {
   "display_name": "Python 3 (ipykernel)",
   "language": "python",
   "name": "python3"
  },
  "language_info": {
   "codemirror_mode": {
    "name": "ipython",
    "version": 3
   },
   "file_extension": ".py",
   "mimetype": "text/x-python",
   "name": "python",
   "nbconvert_exporter": "python",
   "pygments_lexer": "ipython3",
   "version": "3.10.12"
  },
  "widgets": {
   "application/vnd.jupyter.widget-state+json": {
    "state": {},
    "version_major": 2,
    "version_minor": 0
   }
  }
 },
 "nbformat": 4,
 "nbformat_minor": 4
}
