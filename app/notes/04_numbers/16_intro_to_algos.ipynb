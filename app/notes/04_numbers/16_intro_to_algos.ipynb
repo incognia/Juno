{
 "cells": [
  {
   "cell_type": "markdown",
   "metadata": {},
   "source": [
    "# 16. Rock, paper, scissors \n",
    "## Introduction to algorithms\n",
    "\n",
    "[Learn Python with Jupyter](https://learnpythonwithjupyter.com/) by [Serena Bonaretti](https://sbonaretti.github.io/)   \n",
    "Narrative license: [CC BY-NC-SA](https://creativecommons.org/licenses/by-nc-sa/2.0/). Code license: [GNU-GPL v3](https://www.gnu.org/licenses/gpl-3.0.en.html)  \n",
    "\n",
    "--- "
   ]
  },
  {
   "cell_type": "markdown",
   "metadata": {},
   "source": [
    "### 1. Computer pick\n",
    "- Make the computer pick among *rock*, *paper*, or *scissors*: "
   ]
  },
  {
   "cell_type": "code",
   "execution_count": null,
   "metadata": {},
   "outputs": [],
   "source": [
    "import random\n",
    "\n",
    "# list of game possibilities\n",
    "possibilities = [\"rock\", \"paper\", \"scissors\"]\n",
    "\n",
    "# computer random pick\n",
    "computer_pick = random.choice(possibilities)\n",
    "print (computer_pick)"
   ]
  },
  {
   "cell_type": "markdown",
   "metadata": {},
   "source": [
    "### 2. Player choice  \n",
    "- Make the player choose among *rock*, *paper*, or *scissors*:"
   ]
  },
  {
   "cell_type": "code",
   "execution_count": null,
   "metadata": {},
   "outputs": [],
   "source": [
    "# asking the player to make their choice\n",
    "player_choice = input(\"Rock, paper, or scissors?\")\n",
    "print (player_choice)"
   ]
  },
  {
   "cell_type": "markdown",
   "metadata": {},
   "source": [
    "### 3. Determine who wins"
   ]
  },
  {
   "cell_type": "markdown",
   "metadata": {},
   "source": [
    "- If the computer picks *rock*:"
   ]
  },
  {
   "cell_type": "code",
   "execution_count": null,
   "metadata": {},
   "outputs": [],
   "source": [
    "if computer_pick == \"rock\":\n",
    "    \n",
    "    # compare to the player's choice\n",
    "    if player_choice == \"rock\":\n",
    "        print(\"Tie!\")       \n",
    "    elif player_choice == \"paper\": \n",
    "        print (\"You win!\")\n",
    "    else:\n",
    "        print (\"The computer wins!\")"
   ]
  },
  {
   "cell_type": "markdown",
   "metadata": {},
   "source": [
    "- If computer picks *paper*:"
   ]
  },
  {
   "cell_type": "code",
   "execution_count": null,
   "metadata": {},
   "outputs": [],
   "source": [
    "if computer_pick == \"paper\":\n",
    "    \n",
    "    # compare to the player's choice\n",
    "    if player_choice == \"paper\":\n",
    "        print(\"Tie!\")       \n",
    "    elif player_choice == \"scissors\": \n",
    "        print (\"You win!\")\n",
    "    else: \n",
    "        print (\"The computer wins!\")"
   ]
  },
  {
   "cell_type": "markdown",
   "metadata": {},
   "source": [
    "- If computer picks *scissors*:"
   ]
  },
  {
   "cell_type": "code",
   "execution_count": null,
   "metadata": {},
   "outputs": [],
   "source": [
    "if computer_pick == \"scissors\":\n",
    "    \n",
    "    # compare to the player's choice\n",
    "    if player_choice == \"scissors\":\n",
    "        print(\"Tie!\")  \n",
    "    elif player_choice == \"rock\":\n",
    "        print (\"You win!\")\n",
    "    else:\n",
    "        print (\"You didn't win\")"
   ]
  },
  {
   "cell_type": "markdown",
   "metadata": {},
   "source": [
    "### Merging the code\n",
    "- Let's merge the code:"
   ]
  },
  {
   "cell_type": "code",
   "execution_count": null,
   "metadata": {},
   "outputs": [],
   "source": [
    "import random\n",
    "\n",
    "# list of game possibilities\n",
    "possibilities = [\"rock\", \"paper\", \"scissors\"]\n",
    "# computer random pick\n",
    "computer_pick = random.choice(possibilities)\n",
    "\n",
    "# player choice\n",
    "player_choice = input(\"Rock, paper, or scissors?\")\n",
    "\n",
    "# determine who wins\n",
    "# if the computer picks rock\n",
    "if computer_pick == \"rock\":\n",
    "    # compare to the player's choice\n",
    "    if player_choice == \"rock\":\n",
    "        print(\"Tie!\")       \n",
    "    elif player_choice == \"paper\": \n",
    "        print (\"You win!\")\n",
    "    else:\n",
    "        print (\"The computer wins!\")\n",
    "\n",
    "# if the computer picks paper\n",
    "if computer_pick == \"paper\":\n",
    "    # compare to the player's choice\n",
    "    if player_choice == \"paper\":\n",
    "        print(\"Tie!\")       \n",
    "    elif player_choice == \"scissors\": \n",
    "        print (\"You win!\")\n",
    "    else: \n",
    "        print (\"The computer wins!\")\n",
    "\n",
    "# if the computer picks scissors        \n",
    "if computer_pick == \"scissors\":\n",
    "    # compare to the player's choice\n",
    "    if player_choice == \"scissors\":\n",
    "        print(\"Tie!\")  \n",
    "    elif player_choice == \"rock\":\n",
    "        print (\"You win!\")\n",
    "    else: \n",
    "        print (\"You didn't win\")"
   ]
  }
 ],
 "metadata": {
  "kernelspec": {
   "display_name": "Python 3 (ipykernel)",
   "language": "python",
   "name": "python3"
  },
  "language_info": {
   "codemirror_mode": {
    "name": "ipython",
    "version": 3
   },
   "file_extension": ".py",
   "mimetype": "text/x-python",
   "name": "python",
   "nbconvert_exporter": "python",
   "pygments_lexer": "ipython3",
   "version": "3.9.13"
  },
  "widgets": {
   "application/vnd.jupyter.widget-state+json": {
    "state": {},
    "version_major": 2,
    "version_minor": 0
   }
  }
 },
 "nbformat": 4,
 "nbformat_minor": 4
}
