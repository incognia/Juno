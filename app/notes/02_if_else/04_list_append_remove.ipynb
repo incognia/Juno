{
 "cells": [
  {
   "cell_type": "markdown",
   "metadata": {},
   "source": [
    "# 4. Compras de alimentos\n",
    "\n",
    "## Métodos de lista: .append() y .remove()\n",
    "\n",
    "[Learn Python with Jupyter](https://learnpythonwithjupyter.com/) (Aprende Python con Jupyter): [Serena Bonaretti](https://sbonaretti.github.io/)   \n",
    "Tradución al español mexicano (es-MX): [Rodrigo Ernesto Álvarez Aguilera](https://incognia.github.io/)   \n",
    "Licencia de contenido: [CC BY-NC-SA](https://creativecommons.org/licenses/by-nc-sa/2.0/). Licencia de código: [GNU-GPL v3](https://www.gnu.org/licenses/gpl-3.0.en.html)  \n"
   ]
  },
  {
   "cell_type": "markdown",
   "metadata": {},
   "source": [
    "---"
   ]
  },
  {
   "cell_type": "markdown",
   "metadata": {},
   "source": [
    "- Vas a una  tienda de abarrotes en donde tienes que comprar algunos ingredientes para preparar un mole:"
   ]
  },
  {
   "cell_type": "code",
   "execution_count": null,
   "metadata": {},
   "outputs": [],
   "source": [
    "lista_de_compras = [\"almendras\", \"chocolate\", \"chiles\"]\n",
    "print (lista_de_compras)"
   ]
  },
  {
   "cell_type": "markdown",
   "metadata": {},
   "source": [
    "- Justo antes de salir de casa, te preguntas si tienes que comprar algo más. Si el artículo no está en la lista, lo añades:"
   ]
  },
  {
   "cell_type": "code",
   "execution_count": null,
   "metadata": {},
   "outputs": [],
   "source": [
    "nuevo_articulo = input(\"¿Qué más debo comprar?\")\n",
    "\n",
    "if nuevo_articulo in lista_de_compras:\n",
    "    print (nuevo_articulo + \" ya está en la lista de compras\")\n",
    "    print (lista_de_compras) \n",
    "else:\n",
    "    lista_de_compras.append(nuevo_articulo)\n",
    "    print (lista_de_compras)"
   ]
  },
  {
   "cell_type": "markdown",
   "metadata": {},
   "source": [
    "- Por último, te preguntas si tienes que quitar un artículo. Si es así, lo eliminas de la lista:"
   ]
  },
  {
   "cell_type": "code",
   "execution_count": null,
   "metadata": {},
   "outputs": [],
   "source": [
    "articulo_a_quitar = input(\"¿Qué debo quitar?\")\n",
    "\n",
    "if articulo_a_quitar in lista_de_compras:\n",
    "    lista_de_compras.remove(articulo_a_quitar)\n",
    "    print (lista_de_compras)\n",
    "else:\n",
    "    print (articulo_a_quitar + \" no está en la lista\")\n",
    "    print (lista_de_compras)"
   ]
  }
 ],
 "metadata": {
  "kernelspec": {
   "display_name": "Python 3 (ipykernel)",
   "language": "python",
   "name": "python3"
  },
  "language_info": {
   "codemirror_mode": {
    "name": "ipython",
    "version": 3
   },
   "file_extension": ".py",
   "mimetype": "text/x-python",
   "name": "python",
   "nbconvert_exporter": "python",
   "pygments_lexer": "ipython3",
   "version": "3.10.12"
  },
  "widgets": {
   "application/vnd.jupyter.widget-state+json": {
    "state": {},
    "version_major": 2,
    "version_minor": 0
   }
  }
 },
 "nbformat": 4,
 "nbformat_minor": 4
}
