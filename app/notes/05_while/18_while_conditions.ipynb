{
 "cells": [
  {
   "cell_type": "markdown",
   "metadata": {},
   "source": [
    "# 18. Animals, unique numbers, and sum\n",
    "\n",
    "## Various kinds of conditions\n",
    "\n",
    "\n",
    "[Learn Python with Jupyter](https://learnpythonwithjupyter.com/) by [Serena Bonaretti](https://sbonaretti.github.io/)   \n",
    "Narrative license: [CC BY-NC-SA](https://creativecommons.org/licenses/by-nc-sa/2.0/). Code license: [GNU-GPL v3](https://www.gnu.org/licenses/gpl-3.0.en.html)  \n"
   ]
  },
  {
   "cell_type": "markdown",
   "metadata": {},
   "source": [
    "---\n",
    "## 1. Guess the animal!\n",
    "\n",
    "- Given the following list:"
   ]
  },
  {
   "cell_type": "code",
   "execution_count": null,
   "metadata": {},
   "outputs": [],
   "source": [
    "animals = [\"giraffe\", \"dolphin\", \"penguin\"]"
   ]
  },
  {
   "cell_type": "markdown",
   "metadata": {},
   "source": [
    "- Create a game in which the computer randomly picks one of the three animals and the player has to guess the animal picked by the computer. Make sure that the player keeps playing until they guess the animal picked by the computer. At the end of the game, tell the player how many attempts it took to guess the animal"
   ]
  },
  {
   "cell_type": "code",
   "execution_count": null,
   "metadata": {},
   "outputs": [],
   "source": [
    "import random\n",
    "\n",
    "# computer pick\n",
    "computer_pick = random.choice (animals)\n",
    "# print (computer_pick)\n",
    "\n",
    "# player guess\n",
    "player_guess = input(\"Guess the animal! Choices: giraffe, dolphin, penguin: \")\n",
    "\n",
    "# initializing the counter\n",
    "n_of_attempts = 1\n",
    "\n",
    "# as long as the player's guess and the computer's pick are different \n",
    "while player_guess != computer_pick:\n",
    "\n",
    "    # tell the player that the animal is not right\n",
    "    print (\"That's not the right animal!\")\n",
    "\n",
    "    # print the numbers of attempts so far\n",
    "    print (\"Number of attempts so far: \" + str(n_of_attempts))\n",
    "\n",
    "    # increase the number of attempts\n",
    "    n_of_attempts += 1 \n",
    "\n",
    "    # ask the player to guess again\n",
    "    player_guess = input(\"Try again! Guess the animal! Choices: giraffe, dolphin, penguin: \")\n",
    "    \n",
    "# tell the player that they guessed the right animal   \n",
    "print (\"Well done! You guessed \" + computer_pick + \" at attempt number \" + str(n_of_attempts))"
   ]
  },
  {
   "cell_type": "markdown",
   "metadata": {
    "tags": []
   },
   "source": [
    "---\n",
    "## 2. Create a list of 8 unique random numbers!\n",
    "\n",
    "- Create a list of 8 random numbers between 0 and 10. Make sure they are unique, meaning each number is present only once in the list. If the number is already in the list, then print the following: *The number x is already in the list*. How many numbers did you generate before finding 8 unique numbers?"
   ]
  },
  {
   "cell_type": "code",
   "execution_count": null,
   "metadata": {},
   "outputs": [],
   "source": [
    "import random\n",
    "\n",
    "# initialize the number list \n",
    "unique_random_numbers = []\n",
    "\n",
    "# initialize the counter\n",
    "counter = 0\n",
    "\n",
    "# as long as the length of the list is not 8\n",
    "while len(unique_random_numbers) != 8:\n",
    "    \n",
    "    # create a random number between 0 and 10\n",
    "    number = random.randint(0,10)\n",
    "    \n",
    "    # increase the counter by 1\n",
    "    counter += 1 \n",
    "    \n",
    "    # if the number is already in the list\n",
    "    if number in unique_random_numbers:\n",
    "        # print that the number is in the list\n",
    "        print (\"The number \" + str(number) + \" is already in the list\")\n",
    "    # otherwise    \n",
    "    else:\n",
    "        # add the new number to the list\n",
    "        unique_random_numbers.append(number)\n",
    "\n",
    "# print the final list and the total amount of generated numbers\n",
    "print (unique_random_numbers)\n",
    "print (\"The total amount of generated numbers is: \" + str(counter))"
   ]
  },
  {
   "cell_type": "markdown",
   "metadata": {},
   "source": [
    "--- \n",
    "## 3. Summing up positive multiples of 3\n",
    "\n",
    "- Write code that continues asking a player to enter an integer until they enter a negative number. At the end, print the sum of all entered integers that are multiples of 3"
   ]
  },
  {
   "cell_type": "code",
   "execution_count": null,
   "metadata": {},
   "outputs": [],
   "source": [
    "# initialize the sum to 0 \n",
    "sum_of_numbers = 0\n",
    "\n",
    "# ask the user for an interger\n",
    "number = int(input(\"Enter an integer: \"))\n",
    "\n",
    "# as long as the number positive\n",
    "while number >= 0:\n",
    "    \n",
    "    # if the number is a multiple of 3\n",
    "    if number % 3 == 0:\n",
    "        # add the number to the sum\n",
    "        sum_of_numbers += number\n",
    "    \n",
    "    # ask for the next new integer\n",
    "    number = int(input(\"Enter another integer: \"))\n",
    "    \n",
    "# print the final sum    \n",
    "print (\"The sum of the entered multiples of 3 is: \" + str(sum_of_numbers))"
   ]
  }
 ],
 "metadata": {
  "kernelspec": {
   "display_name": "Python 3 (ipykernel)",
   "language": "python",
   "name": "python3"
  },
  "language_info": {
   "codemirror_mode": {
    "name": "ipython",
    "version": 3
   },
   "file_extension": ".py",
   "mimetype": "text/x-python",
   "name": "python",
   "nbconvert_exporter": "python",
   "pygments_lexer": "ipython3",
   "version": "3.9.13"
  },
  "widgets": {
   "application/vnd.jupyter.widget-state+json": {
    "state": {},
    "version_major": 2,
    "version_minor": 0
   }
  }
 },
 "nbformat": 4,
 "nbformat_minor": 4
}
