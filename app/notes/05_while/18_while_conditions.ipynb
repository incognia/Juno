{
 "cells": [
  {
   "cell_type": "markdown",
   "metadata": {},
   "source": [
    "# 18. Animales, números únicos y suma\n",
    "\n",
    "## Varios tipos de condiciones\n",
    "\n",
    "[Learn Python with Jupyter](https://learnpythonwithjupyter.com/) (Aprende Python con Jupyter): [Serena Bonaretti](https://sbonaretti.github.io/)   \n",
    "Tradución al español mexicano (es-MX): [Rodrigo Ernesto Álvarez Aguilera](https://incognia.github.io/)   \n",
    "Licencia de contenido: [CC BY-NC-SA](https://creativecommons.org/licenses/by-nc-sa/2.0/). Licencia de código: [GNU-GPL v3](https://www.gnu.org/licenses/gpl-3.0.en.html)  \n",
    "\n",
    "---"
   ]
  },
  {
   "cell_type": "code",
   "execution_count": null,
   "metadata": {},
   "outputs": [],
   "source": [
    "animales = [\"jaguar\", \"manatí\", \"colibrí\"]"
   ]
  },
  {
   "cell_type": "markdown",
   "metadata": {},
   "source": [
    "- Crea un juego en el que la computadora elija al azar uno de los tres animales y el jugador debe adivinar el animal elegido por la computadora. Asegúrate de que el jugador siga jugando hasta que adivine el animal seleccionado por la computadora. Al final del juego, dile al jugador cuántos intentos le tomó adivinar el animal."
   ]
  },
  {
   "cell_type": "code",
   "execution_count": null,
   "metadata": {},
   "outputs": [],
   "source": [
    "import random\n",
    "\n",
    "# Elección de la computadora\n",
    "eleccion_computadora = random.choice(animales)\n",
    "\n",
    "# Elección del jugador\n",
    "eleccion_jugador = input(\"¡Adivina el animal! Opciones: jaguar, manatí, colibrí: \")\n",
    "\n",
    "# Inicializar el contador de intentos\n",
    "n_de_intentos = 1\n",
    "\n",
    "# Mientras la elección del jugador y la elección de la computadora sean diferentes\n",
    "while eleccion_jugador != eleccion_computadora:\n",
    "\n",
    "    # Informar al jugador que no es el animal correcto\n",
    "    print(\"¡Ese no es el animal correcto!\")\n",
    "\n",
    "    # Imprimir el número de intentos hasta ahora\n",
    "    print(\"Número de intentos hasta ahora: \" + str(n_de_intentos))\n",
    "\n",
    "    # Incrementar el número de intentos\n",
    "    n_de_intentos += 1\n",
    "\n",
    "    # Pedir al jugador que adivine de nuevo\n",
    "    eleccion_jugador = input(\"¡Inténtalo de nuevo! Adivina el animal! Opciones: jaguar, manatí, colibrí: \")\n",
    "\n",
    "# Informar al jugador que adivinó el animal correcto\n",
    "print(\"¡Bien hecho! Adivinaste \" + eleccion_computadora + \" en el intento número \" + str(n_de_intentos))"
   ]
  },
  {
   "cell_type": "markdown",
   "metadata": {
    "tags": []
   },
   "source": [
    "---\n",
    "## 2. ¡Crea una lista de 8 números aleatorios únicos!\n",
    "\n",
    "- Crea una lista de 8 números aleatorios entre 0 y 10. Asegúrate de que sean únicos, es decir, que cada número esté presente solo una vez en la lista. Si el número ya está en la lista, entonces imprime lo siguiente: *El número x ya está en la lista*. ¿Cuántos números generaste antes de encontrar 8 números únicos?"
   ]
  },
  {
   "cell_type": "code",
   "execution_count": null,
   "metadata": {},
   "outputs": [],
   "source": [
    "import random\n",
    "\n",
    "# Inicializar la lista de números únicos\n",
    "numeros_aleatorios_unicos = []\n",
    "\n",
    "# Inicializar el contador\n",
    "contador = 0\n",
    "\n",
    "# Mientras la longitud de la lista no sea 8\n",
    "while len(numeros_aleatorios_unicos) != 8:\n",
    "\n",
    "    # Generar un número aleatorio entre 0 y 10\n",
    "    numero = random.randint(0, 10)\n",
    "\n",
    "    # Incrementar el contador en 1\n",
    "    contador += 1\n",
    "\n",
    "    # Si el número ya está en la lista\n",
    "    if numero in numeros_aleatorios_unicos:\n",
    "        # Imprime que el número ya está en la lista\n",
    "        print(\"El número \" + str(numero) + \" ya está en la lista\")\n",
    "    # En caso contrario\n",
    "    else:\n",
    "        # Agregar el nuevo número a la lista\n",
    "        numeros_aleatorios_unicos.append(numero)\n",
    "\n",
    "# Imprimir la lista final y el total de números generados\n",
    "print(numeros_aleatorios_unicos)\n",
    "print(\"El total de números generados es: \" + str(contador))"
   ]
  },
  {
   "cell_type": "markdown",
   "metadata": {},
   "source": [
    "--- \n",
    "## 3. Sumar múltiplos positivos de 3\n",
    "\n",
    "- Escribe un código que siga pidiendo a un jugador que ingrese un número entero hasta que ingresen un número negativo. Al final, imprime la suma de todos los enteros ingresados que sean múltiplos de 3."
   ]
  },
  {
   "cell_type": "code",
   "execution_count": null,
   "metadata": {},
   "outputs": [],
   "source": [
    "# Inicializa la suma en 0\n",
    "suma_de_numeros = 0\n",
    "\n",
    "# Pide al usuario que ingrese un número entero\n",
    "numero = int(input(\"Ingresa un número entero: \"))\n",
    "\n",
    "# Mientras el número sea positivo\n",
    "while numero >= 0:\n",
    "\n",
    "    # Si el número es múltiplo de 3\n",
    "    if numero % 3 == 0:\n",
    "        # Suma el número a la suma total\n",
    "        suma_de_numeros += numero\n",
    "\n",
    "    # Pide el siguiente número entero\n",
    "    numero = int(input(\"Ingresa otro número entero: \"))\n",
    "\n",
    "# Imprime la suma final\n",
    "print(\"La suma de los múltiplos de 3 ingresados es: \" + str(suma_de_numeros))"
   ]
  }
 ],
 "metadata": {
  "kernelspec": {
   "display_name": "Python 3 (ipykernel)",
   "language": "python",
   "name": "python3"
  },
  "language_info": {
   "codemirror_mode": {
    "name": "ipython",
    "version": 3
   },
   "file_extension": ".py",
   "mimetype": "text/x-python",
   "name": "python",
   "nbconvert_exporter": "python",
   "pygments_lexer": "ipython3",
   "version": "3.10.12"
  },
  "widgets": {
   "application/vnd.jupyter.widget-state+json": {
    "state": {},
    "version_major": 2,
    "version_minor": 0
   }
  }
 },
 "nbformat": 4,
 "nbformat_minor": 4
}
