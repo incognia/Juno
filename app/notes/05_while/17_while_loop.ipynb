{
 "cells": [
  {
   "cell_type": "markdown",
   "metadata": {},
   "source": [
    "# 17. Do you want more candies?  \n",
    "\n",
    "## The while loop\n",
    "\n",
    "[Learn Python with Jupyter](https://learnpythonwithjupyter.com/) by [Serena Bonaretti](https://sbonaretti.github.io/)   \n",
    "Narrative license: [CC BY-NC-SA](https://creativecommons.org/licenses/by-nc-sa/2.0/). Code license: [GNU-GPL v3](https://www.gnu.org/licenses/gpl-3.0.en.html)  \n"
   ]
  },
  {
   "cell_type": "markdown",
   "metadata": {
    "tags": []
   },
   "source": [
    "---"
   ]
  },
  {
   "cell_type": "code",
   "execution_count": null,
   "metadata": {},
   "outputs": [],
   "source": [
    "# initialize variables \n",
    "number_of_candies = 0 \n",
    "\n",
    "# print the initial number of candies\n",
    "print (\"You have \" + str(number_of_candies) + \" candies\")\n",
    "\n",
    "# ask if one wants a candy\n",
    "answer = input(\"Do you want a candy? (yes/no)\")\n",
    "\n",
    "# as long as the answer is yes: \n",
    "while answer == \"yes\":  \n",
    "    \n",
    "    # add a candy\n",
    "    number_of_candies += 1 \n",
    "    \n",
    "    # print the current number of candies\n",
    "    print (\"You have \" + str(number_of_candies) + \" candies\")\n",
    "    \n",
    "    # ask again if they want more candies \n",
    "    answer = input(\"Do you want more candies? (yes/no)\")\n",
    "\n",
    "# print the final number of candies\n",
    "print (\"You have a total of \" + str(number_of_candies) + \" candies\")"
   ]
  }
 ],
 "metadata": {
  "kernelspec": {
   "display_name": "Python 3 (ipykernel)",
   "language": "python",
   "name": "python3"
  },
  "language_info": {
   "codemirror_mode": {
    "name": "ipython",
    "version": 3
   },
   "file_extension": ".py",
   "mimetype": "text/x-python",
   "name": "python",
   "nbconvert_exporter": "python",
   "pygments_lexer": "ipython3",
   "version": "3.9.13"
  },
  "widgets": {
   "application/vnd.jupyter.widget-state+json": {
    "state": {},
    "version_major": 2,
    "version_minor": 0
   }
  }
 },
 "nbformat": 4,
 "nbformat_minor": 4
}
