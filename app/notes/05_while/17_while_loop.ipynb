{
 "cells": [
  {
   "cell_type": "markdown",
   "metadata": {},
   "source": [
    "# 17. ¿Quieres más dulces?\n",
    "\n",
    "## El bucle while\n",
    "\n",
    "[Learn Python with Jupyter](https://learnpythonwithjupyter.com/) (Aprende Python con Jupyter): [Serena Bonaretti](https://sbonaretti.github.io/)   \n",
    "Tradución al español mexicano (es-MX): [Rodrigo Ernesto Álvarez Aguilera](https://incognia.github.io/)   \n",
    "Licencia de contenido: [CC BY-NC-SA](https://creativecommons.org/licenses/by-nc-sa/2.0/). Licencia de código: [GNU-GPL v3](https://www.gnu.org/licenses/gpl-3.0.en.html)  \n",
    "\n",
    "---"
   ]
  },
  {
   "cell_type": "code",
   "execution_count": null,
   "metadata": {},
   "outputs": [],
   "source": [
    "# Inicializa tus variables\n",
    "cantidad_de_dulces = 0\n",
    "\n",
    "# Imprime la cantidad inicial de dulces que tienes\n",
    "print(\"Tienes \" + str(cantidad_de_dulces) + \" dulces\")\n",
    "\n",
    "# Responde si deseas un dulce\n",
    "respuesta = input(\"¿Quieres un dulce? (sí/no)\")\n",
    "\n",
    "# Mientras tu respuesta sea sí:\n",
    "while respuesta == \"sí\":\n",
    "\n",
    "    # Agrega un dulce a tu colección\n",
    "    cantidad_de_dulces += 1\n",
    "\n",
    "    # Imprime la cantidad actual de dulces que tienes\n",
    "    print(\"Tienes \" + str(cantidad_de_dulces) + \" dulces\")\n",
    "\n",
    "    # Pregunta de nuevo si deseas más dulces\n",
    "    respuesta = input(\"¿Quieres más dulces? (sí/no)\")\n",
    "\n",
    "# Imprime la cantidad final de dulces que tienes\n",
    "print(\"Tienes un total de \" + str(cantidad_de_dulces) + \" dulces\")"
   ]
  }
 ],
 "metadata": {
  "kernelspec": {
   "display_name": "Python 3 (ipykernel)",
   "language": "python",
   "name": "python3"
  },
  "language_info": {
   "codemirror_mode": {
    "name": "ipython",
    "version": 3
   },
   "file_extension": ".py",
   "mimetype": "text/x-python",
   "name": "python",
   "nbconvert_exporter": "python",
   "pygments_lexer": "ipython3",
   "version": "3.10.12"
  },
  "widgets": {
   "application/vnd.jupyter.widget-state+json": {
    "state": {},
    "version_major": 2,
    "version_minor": 0
   }
  }
 },
 "nbformat": 4,
 "nbformat_minor": 4
}
