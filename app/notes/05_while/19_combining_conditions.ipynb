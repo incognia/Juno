{
 "cells": [
  {
   "cell_type": "markdown",
   "metadata": {},
   "source": [
    "---\n",
    "\n",
    "\n",
    "# 19. And, or, not, not in\n",
    "\n",
    "## Combining and reversing conditions\n",
    "\n",
    "\n",
    "[Learn Python with Jupyter](https://learnpythonwithjupyter.com/) by [Serena Bonaretti](https://sbonaretti.github.io/)   \n",
    "Narrative license: [CC BY-NC-SA](https://creativecommons.org/licenses/by-nc-sa/2.0/). Code license: [GNU-GPL v3](https://www.gnu.org/licenses/gpl-3.0.en.html)  \n"
   ]
  },
  {
   "cell_type": "markdown",
   "metadata": {},
   "source": [
    "---\n",
    "## and \n",
    "\n",
    "- Given the following list of integers:"
   ]
  },
  {
   "cell_type": "code",
   "execution_count": null,
   "metadata": {},
   "outputs": [],
   "source": [
    "numbers = [1, 5, 7, 2, 8, 19]"
   ]
  },
  {
   "cell_type": "markdown",
   "metadata": {},
   "source": [
    "- Print out the numbers that are between 5 **and** 10:"
   ]
  },
  {
   "cell_type": "code",
   "execution_count": null,
   "metadata": {},
   "outputs": [],
   "source": [
    "# for each position in the list\n",
    "for i in range (0, len(numbers)):\n",
    "    \n",
    "    # if the current number is between 5 and 10\n",
    "    if numbers[i] >= 5 and numbers[i] <=10 :\n",
    "    \n",
    "        # print the current number\n",
    "        print (\"The number \" + str(numbers[i]) + \" is between 5 and 10\")   "
   ]
  },
  {
   "cell_type": "markdown",
   "metadata": {},
   "source": [
    "---\n",
    "## or  \n",
    "\n",
    "- Given the following string: "
   ]
  },
  {
   "cell_type": "code",
   "execution_count": null,
   "metadata": {},
   "outputs": [],
   "source": [
    "message = \"Have a nice day!!!\""
   ]
  },
  {
   "cell_type": "markdown",
   "metadata": {},
   "source": [
    "- And given all punctuation:"
   ]
  },
  {
   "cell_type": "code",
   "execution_count": null,
   "metadata": {},
   "outputs": [],
   "source": [
    "punctuation = \"\\\"\\/'()[]{}<>.,;:?!^@∼#$%&*_-\""
   ]
  },
  {
   "cell_type": "markdown",
   "metadata": {},
   "source": [
    "- Print and count the number of characters that are punctuation **or** vowels:"
   ]
  },
  {
   "cell_type": "code",
   "execution_count": null,
   "metadata": {},
   "outputs": [],
   "source": [
    "# string of vowels\n",
    "vowels = \"aeiou\"\n",
    "\n",
    "# initialize counter\n",
    "counter = 0\n",
    "\n",
    "# for each position in the message\n",
    "for i in range (len(message)):\n",
    "    \n",
    "    # if the current element is punctuation or vowel\n",
    "    if message[i] in punctuation or message[i] in vowels:\n",
    "        \n",
    "        # print a message\n",
    "        print (message [i] + \" is a vowel or a punctuation\")\n",
    "        \n",
    "        # increase the counter\n",
    "        counter += 1\n",
    "        \n",
    "# print the final amount\n",
    "print (\"The total amount of punctuation or vowels is \" + str(counter))"
   ]
  },
  {
   "cell_type": "markdown",
   "metadata": {},
   "source": [
    "---\n",
    "## not"
   ]
  },
  {
   "cell_type": "markdown",
   "metadata": {},
   "source": [
    "- Given the following list of integers:"
   ]
  },
  {
   "cell_type": "code",
   "execution_count": null,
   "metadata": {},
   "outputs": [],
   "source": [
    "numbers = [4, 6, 7, 9]"
   ]
  },
  {
   "cell_type": "markdown",
   "metadata": {},
   "source": [
    "- Print out the numbers that are **not** divisible by 2:"
   ]
  },
  {
   "cell_type": "code",
   "execution_count": null,
   "metadata": {},
   "outputs": [],
   "source": [
    "# for each position in the list\n",
    "for i in range (len(numbers)):\n",
    "    \n",
    "    # if the current number is not even\n",
    "    if not numbers[i] % 2 == 0:\n",
    "        \n",
    "        # print the current numeber\n",
    "        print (numbers[i])"
   ]
  },
  {
   "cell_type": "markdown",
   "metadata": {},
   "source": [
    "- Alternative solution:"
   ]
  },
  {
   "cell_type": "code",
   "execution_count": null,
   "metadata": {},
   "outputs": [],
   "source": [
    "# for each position in the list\n",
    "for i in range (len(numbers)):\n",
    "    \n",
    "    # if the current number is odd\n",
    "    if numbers[i] % 2 != 0:\n",
    "        \n",
    "        # print the current numeber\n",
    "        print (numbers[i])"
   ]
  },
  {
   "cell_type": "markdown",
   "metadata": {},
   "source": [
    "---\n",
    "## not in\n",
    "- Generate 5 random numbers between 0 and 10. If the random numbers are **not** already **in** the following list, add them:"
   ]
  },
  {
   "cell_type": "code",
   "execution_count": null,
   "metadata": {},
   "outputs": [],
   "source": [
    "numbers = [1,4,7]"
   ]
  },
  {
   "cell_type": "code",
   "execution_count": null,
   "metadata": {},
   "outputs": [],
   "source": [
    "import random\n",
    "\n",
    "# for five times\n",
    "for _ in range (5):\n",
    "    \n",
    "    # generate a random number between 0 and 10 \n",
    "    number = random.randint(0,10)\n",
    "    # print the number as a check\n",
    "    print (number)\n",
    "        \n",
    "    # if the new number is not in numbers\n",
    "    if number not in numbers:\n",
    "        # add the number to numbers\n",
    "        numbers.append(number)\n",
    "\n",
    "# print the final list\n",
    "print (numbers)"
   ]
  }
 ],
 "metadata": {
  "kernelspec": {
   "display_name": "Python 3 (ipykernel)",
   "language": "python",
   "name": "python3"
  },
  "language_info": {
   "codemirror_mode": {
    "name": "ipython",
    "version": 3
   },
   "file_extension": ".py",
   "mimetype": "text/x-python",
   "name": "python",
   "nbconvert_exporter": "python",
   "pygments_lexer": "ipython3",
   "version": "3.9.13"
  },
  "widgets": {
   "application/vnd.jupyter.widget-state+json": {
    "state": {},
    "version_major": 2,
    "version_minor": 0
   }
  }
 },
 "nbformat": 4,
 "nbformat_minor": 4
}
