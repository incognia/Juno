{
 "cells": [
  {
   "cell_type": "markdown",
   "metadata": {},
   "source": [
    "# 19. And, or, not, not in\n",
    "\n",
    "## Combinando y revirtiendo condiciones\n",
    "\n",
    "[Learn Python with Jupyter](https://learnpythonwithjupyter.com/) (Aprende Python con Jupyter): [Serena Bonaretti](https://sbonaretti.github.io/)   \n",
    "Tradución al español mexicano (es-MX): [Rodrigo Ernesto Álvarez Aguilera](https://incognia.github.io/)   \n",
    "Licencia de contenido: [CC BY-NC-SA](https://creativecommons.org/licenses/by-nc-sa/2.0/). Licencia de código: [GNU-GPL v3](https://www.gnu.org/licenses/gpl-3.0.en.html)  \n",
    "\n",
    "---"
   ]
  },
  {
   "cell_type": "markdown",
   "metadata": {},
   "source": [
    "## and \n",
    "\n",
    "- Dada la siguiente lista de enteros:"
   ]
  },
  {
   "cell_type": "code",
   "execution_count": null,
   "metadata": {},
   "outputs": [],
   "source": [
    "numeros = [1, 5, 7, 2, 8, 19]"
   ]
  },
  {
   "cell_type": "markdown",
   "metadata": {},
   "source": [
    "- Imprime los números que están entre 5 **y** 10:"
   ]
  },
  {
   "cell_type": "code",
   "execution_count": null,
   "metadata": {},
   "outputs": [],
   "source": [
    "# Para cada posición en la lista\n",
    "for i in range(0, len(numeros)):\n",
    "\n",
    "    # Si el número actual está entre 5 y 10\n",
    "    if numeros[i] >= 5 and numeros[i] <= 10:\n",
    "\n",
    "        # Imprime el número actual\n",
    "        print(\"El número \" + str(numeros[i]) + \" está entre 5 y 10\")"
   ]
  },
  {
   "cell_type": "markdown",
   "metadata": {},
   "source": [
    "---\n",
    "## or  \n",
    "\n",
    "- Dada la siguiente cadena de texto: "
   ]
  },
  {
   "cell_type": "code",
   "execution_count": null,
   "metadata": {},
   "outputs": [],
   "source": [
    "mensaje = \"¡¡¡Que tengas un buen día!!!\""
   ]
  },
  {
   "cell_type": "markdown",
   "metadata": {},
   "source": [
    "- Y dados todos los signos de puntuación:"
   ]
  },
  {
   "cell_type": "code",
   "execution_count": null,
   "metadata": {},
   "outputs": [],
   "source": [
    "puntuacion = \"\\\"/\\'()[]{}<>,.;:¿?¡!^@∼#$%&*_-\""
   ]
  },
  {
   "cell_type": "markdown",
   "metadata": {},
   "source": [
    "- Imprime y cuenta el número de caracteres que son signos de puntuación **o** vocales:"
   ]
  },
  {
   "cell_type": "code",
   "execution_count": null,
   "metadata": {},
   "outputs": [],
   "source": [
    "# Cadena de vocales\n",
    "vocales = \"aeiouáéíóú\"\n",
    "\n",
    "# Inicializa el contador\n",
    "contador = 0\n",
    "\n",
    "# Para cada posición en el mensaje\n",
    "for i in range(len(mensaje)):\n",
    "\n",
    "    # Si el elemento actual es un signo de puntuación o una vocal\n",
    "    if mensaje[i] in puntuacion or mensaje[i] in vocales:\n",
    "\n",
    "        # Imprime un mensaje\n",
    "        print(mensaje[i] + \" es una vocal o un signo de puntuación\")\n",
    "\n",
    "        # Incrementa el contador\n",
    "        contador += 1\n",
    "\n",
    "# Imprime la cantidad final\n",
    "print(\"El total de signos de puntuación o vocales es \" + str(contador))"
   ]
  },
  {
   "cell_type": "markdown",
   "metadata": {},
   "source": [
    "---\n",
    "## not\n",
    "\n",
    "- Dada la siguiente lista de enteros:"
   ]
  },
  {
   "cell_type": "code",
   "execution_count": null,
   "metadata": {},
   "outputs": [],
   "source": [
    "numeros = [4, 6, 7, 9]"
   ]
  },
  {
   "cell_type": "markdown",
   "metadata": {},
   "source": [
    "- Imprime los números que **no** son divisibles por 2:"
   ]
  },
  {
   "cell_type": "code",
   "execution_count": null,
   "metadata": {},
   "outputs": [],
   "source": [
    "# Para cada posición en la lista\n",
    "for i in range(len(numeros)):\n",
    "\n",
    "    # Si el número actual no es par\n",
    "    if not numeros[i] % 2 == 0:\n",
    "\n",
    "        # Imprime el número actual\n",
    "        print(numeros[i])"
   ]
  },
  {
   "cell_type": "markdown",
   "metadata": {},
   "source": [
    "- Solución alternativa:"
   ]
  },
  {
   "cell_type": "code",
   "execution_count": null,
   "metadata": {},
   "outputs": [],
   "source": [
    "# Para cada posición en la lista\n",
    "for i in range(len(numeros)):\n",
    "\n",
    "    # Si el número actual es impar\n",
    "    if numeros[i] % 2 != 0:\n",
    "\n",
    "        # Imprime el número actual\n",
    "        print(numeros[i])"
   ]
  },
  {
   "cell_type": "markdown",
   "metadata": {},
   "source": [
    "---\n",
    "## not in\n",
    "\n",
    "- Genera 5 números aleatorios entre 0 y 10. Si los números aleatorios **no** están ya **en** la siguiente lista, agrégalos:"
   ]
  },
  {
   "cell_type": "code",
   "execution_count": null,
   "metadata": {},
   "outputs": [],
   "source": [
    "numeros = [1,4,7]"
   ]
  },
  {
   "cell_type": "code",
   "execution_count": null,
   "metadata": {},
   "outputs": [],
   "source": [
    "import random\n",
    "\n",
    "# Repite el proceso cinco veces\n",
    "for _ in range(5):\n",
    "\n",
    "    # Genera un número aleatorio entre 0 y 10\n",
    "    numero = random.randint(0, 10)\n",
    "    # Imprime el número como comprobación\n",
    "    print(numero)\n",
    "\n",
    "    # Si el nuevo número no está en la lista de números\n",
    "    if numero not in numeros:\n",
    "        # Agrégalo a la lista de números\n",
    "        numeros.append(numero)\n",
    "\n",
    "# Imprime la lista final\n",
    "print(numeros)"
   ]
  }
 ],
 "metadata": {
  "kernelspec": {
   "display_name": "Python 3 (ipykernel)",
   "language": "python",
   "name": "python3"
  },
  "language_info": {
   "codemirror_mode": {
    "name": "ipython",
    "version": 3
   },
   "file_extension": ".py",
   "mimetype": "text/x-python",
   "name": "python",
   "nbconvert_exporter": "python",
   "pygments_lexer": "ipython3",
   "version": "3.10.12"
  },
  "widgets": {
   "application/vnd.jupyter.widget-state+json": {
    "state": {},
    "version_major": 2,
    "version_minor": 0
   }
  }
 },
 "nbformat": 4,
 "nbformat_minor": 4
}
