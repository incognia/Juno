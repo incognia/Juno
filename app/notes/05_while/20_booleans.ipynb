{
 "cells": [
  {
   "cell_type": "markdown",
   "metadata": {
    "tags": []
   },
   "source": [
    "# 20. What's behind comparisons and conditions? \n",
    "\n",
    "## Booleans\n",
    "\n",
    "[Learn Python with Jupyter](https://learnpythonwithjupyter.com/) by [Serena Bonaretti](https://sbonaretti.github.io/)   \n",
    "Narrative license: [CC BY-NC-SA](https://creativecommons.org/licenses/by-nc-sa/2.0/). Code license: [GNU-GPL v3](https://www.gnu.org/licenses/gpl-3.0.en.html)  \n",
    "\n",
    "---"
   ]
  },
  {
   "cell_type": "markdown",
   "metadata": {},
   "source": [
    "### 1. Single comparison or condition"
   ]
  },
  {
   "cell_type": "markdown",
   "metadata": {},
   "source": [
    "- Given the following assignment:  "
   ]
  },
  {
   "cell_type": "code",
   "execution_count": null,
   "metadata": {},
   "outputs": [],
   "source": [
    "number = 5"
   ]
  },
  {
   "cell_type": "markdown",
   "metadata": {},
   "source": [
    "- What is the outcome of the following comparison operation?"
   ]
  },
  {
   "cell_type": "code",
   "execution_count": null,
   "metadata": {},
   "outputs": [],
   "source": [
    "print (number > 3)"
   ]
  },
  {
   "cell_type": "markdown",
   "metadata": {},
   "source": [
    "- Assign the above operation to a variable, and print it. What type is it?"
   ]
  },
  {
   "cell_type": "code",
   "execution_count": null,
   "metadata": {},
   "outputs": [],
   "source": [
    "result = number > 3\n",
    "print (result)\n",
    "type(result)"
   ]
  },
  {
   "cell_type": "markdown",
   "metadata": {},
   "source": [
    "- What is the outcome of the following comparison operation?"
   ]
  },
  {
   "cell_type": "code",
   "execution_count": null,
   "metadata": {},
   "outputs": [],
   "source": [
    "print (number < 3)"
   ]
  },
  {
   "cell_type": "markdown",
   "metadata": {},
   "source": [
    "- Assign the above operation to a variable, and print it. What type is it?"
   ]
  },
  {
   "cell_type": "code",
   "execution_count": null,
   "metadata": {},
   "outputs": [],
   "source": [
    "result = number < 3\n",
    "print (result)\n",
    "type(result)"
   ]
  },
  {
   "cell_type": "markdown",
   "metadata": {
    "tags": []
   },
   "source": [
    "### 2. Combining comparisons or conditions"
   ]
  },
  {
   "cell_type": "markdown",
   "metadata": {},
   "source": [
    "- What is the outcome of the following comparison operations? "
   ]
  },
  {
   "cell_type": "code",
   "execution_count": null,
   "metadata": {},
   "outputs": [],
   "source": [
    "number = 3\n",
    "print (number > 1)           \n",
    "print (number < 5)           \n",
    "print (number > 1 and number < 5) "
   ]
  },
  {
   "cell_type": "markdown",
   "metadata": {},
   "source": [
    "- What happens if we change the first condition to be false?"
   ]
  },
  {
   "cell_type": "code",
   "execution_count": null,
   "metadata": {},
   "outputs": [],
   "source": [
    "number = 3\n",
    "print (number > 4)           \n",
    "print (number < 5)           \n",
    "print (number > 4 and number < 5) "
   ]
  },
  {
   "cell_type": "markdown",
   "metadata": {},
   "source": [
    "- What happens if we change the second condition to be false?"
   ]
  },
  {
   "cell_type": "code",
   "execution_count": null,
   "metadata": {},
   "outputs": [],
   "source": [
    "number = 3\n",
    "print (number > 1)           \n",
    "print (number < 2)           \n",
    "print (number > 1 and number < 2) "
   ]
  },
  {
   "cell_type": "markdown",
   "metadata": {},
   "source": [
    "- Finally, what happens if we change both conditions to be false?"
   ]
  },
  {
   "cell_type": "code",
   "execution_count": null,
   "metadata": {},
   "outputs": [],
   "source": [
    "number = 3\n",
    "print (number > 4)           \n",
    "print (number < 2)           \n",
    "print (number > 4 and number < 2) "
   ]
  },
  {
   "cell_type": "markdown",
   "metadata": {},
   "source": [
    "--- \n",
    "\n",
    "### 3. Where else do we use booleans? \n",
    "  "
   ]
  },
  {
   "cell_type": "markdown",
   "metadata": {},
   "source": [
    "- Look at this modified version of the example *Do you want more candies?* from Chapter 17 :"
   ]
  },
  {
   "cell_type": "code",
   "execution_count": null,
   "metadata": {},
   "outputs": [],
   "source": [
    "# initialize variables \n",
    "number_of_candies = 0 \n",
    "\n",
    "# use the boolean as a flag\n",
    "flag = True\n",
    "\n",
    "# print the initial number of candies\n",
    "print (\"You have \" + str(number_of_candies) + \" candies\")\n",
    "\n",
    "# as long as the flag is True (= a green traffic light): \n",
    "while flag == True:  \n",
    "    \n",
    "    # ask if one wants a candy\n",
    "    answer = input(\"Do you want a candy? (yes/no)\")\n",
    "    \n",
    "    # if the answer is yes\n",
    "    if answer == \"yes\":\n",
    "        \n",
    "        # add a candy\n",
    "        number_of_candies += 1 \n",
    "    \n",
    "        # print the total number of candies\n",
    "        print (\"You have \" + str(number_of_candies) + \" candies\")\n",
    "    \n",
    "    # if the answer is no\n",
    "    else:\n",
    "    \n",
    "        # print out the final number of candies\n",
    "        print (\"You have a total of \" + str(number_of_candies) + \" candies\")\n",
    "        \n",
    "        # stop the loop by assigning False to the flag (= a red traffic light)\n",
    "        flag = False"
   ]
  },
  {
   "cell_type": "markdown",
   "metadata": {},
   "source": [
    "- Here is the code from Chapter 17 for comparison:"
   ]
  },
  {
   "cell_type": "code",
   "execution_count": null,
   "metadata": {},
   "outputs": [],
   "source": [
    "# initialize variables \n",
    "number_of_candies = 0 \n",
    "\n",
    "# print the initial number of candies\n",
    "print (\"You have \" + str(number_of_candies) + \" candies\")\n",
    "\n",
    "# ask if one wants a candy\n",
    "answer = input(\"Do you want a candy? (yes/no)\")\n",
    "\n",
    "# as long as the answer is yes: \n",
    "while answer == \"yes\":  \n",
    "    \n",
    "    # add a candy\n",
    "    number_of_candies += 1 \n",
    "    \n",
    "    # print the current number of candies\n",
    "    print (\"You have \" + str(number_of_candies) + \" candies\")\n",
    "    \n",
    "    # ask again if they want more candies \n",
    "    answer = input(\"Do you want more candies? (yes/no)\")\n",
    "\n",
    "# print the final number of candies\n",
    "print (\"You have a total of \" + str(number_of_candies) + \" candies\")"
   ]
  }
 ],
 "metadata": {
  "kernelspec": {
   "display_name": "Python 3 (ipykernel)",
   "language": "python",
   "name": "python3"
  },
  "language_info": {
   "codemirror_mode": {
    "name": "ipython",
    "version": 3
   },
   "file_extension": ".py",
   "mimetype": "text/x-python",
   "name": "python",
   "nbconvert_exporter": "python",
   "pygments_lexer": "ipython3",
   "version": "3.11.3"
  },
  "widgets": {
   "application/vnd.jupyter.widget-state+json": {
    "state": {},
    "version_major": 2,
    "version_minor": 0
   }
  }
 },
 "nbformat": 4,
 "nbformat_minor": 4
}
