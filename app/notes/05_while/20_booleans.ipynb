{
 "cells": [
  {
   "cell_type": "markdown",
   "metadata": {
    "tags": []
   },
   "source": [
    "# 20. ¿Qué hay detrás de las comparaciones y condiciones?\n",
    "\n",
    "## Booleanos\n",
    "\n",
    "[Learn Python with Jupyter](https://learnpythonwithjupyter.com/) (Aprende Python con Jupyter): [Serena Bonaretti](https://sbonaretti.github.io/)   \n",
    "Tradución al español mexicano (es-MX): [Rodrigo Ernesto Álvarez Aguilera](https://incognia.github.io/)   \n",
    "Licencia de contenido: [CC BY-NC-SA](https://creativecommons.org/licenses/by-nc-sa/2.0/). Licencia de código: [GNU-GPL v3](https://www.gnu.org/licenses/gpl-3.0.en.html)  \n",
    "\n",
    "---"
   ]
  },
  {
   "cell_type": "markdown",
   "metadata": {},
   "source": [
    "### 1. Comparación o condición simple\n",
    "\n",
    "- Dada la siguiente asignación:"
   ]
  },
  {
   "cell_type": "code",
   "execution_count": null,
   "metadata": {},
   "outputs": [],
   "source": [
    "numero = 5"
   ]
  },
  {
   "cell_type": "markdown",
   "metadata": {},
   "source": [
    "- ¿Cuál es el resultado de la siguiente operación de comparación?"
   ]
  },
  {
   "cell_type": "code",
   "execution_count": null,
   "metadata": {},
   "outputs": [],
   "source": [
    "print (numero > 3)"
   ]
  },
  {
   "cell_type": "markdown",
   "metadata": {},
   "source": [
    "- Asigna la operación anterior a una variable e imprímela. ¿Qué tipo de dato es?"
   ]
  },
  {
   "cell_type": "code",
   "execution_count": null,
   "metadata": {},
   "outputs": [],
   "source": [
    "resultado = numero > 3\n",
    "print(resultado)\n",
    "print(type(resultado))"
   ]
  },
  {
   "cell_type": "markdown",
   "metadata": {},
   "source": [
    "- ¿Cuál es el resultado de la siguiente operación de comparación?"
   ]
  },
  {
   "cell_type": "code",
   "execution_count": null,
   "metadata": {},
   "outputs": [],
   "source": [
    "print (numero < 3)"
   ]
  },
  {
   "cell_type": "markdown",
   "metadata": {},
   "source": [
    "- Asigna la operación anterior a una variable e imprímela. ¿Qué tipo de dato es?"
   ]
  },
  {
   "cell_type": "code",
   "execution_count": null,
   "metadata": {},
   "outputs": [],
   "source": [
    "resultado = numero < 3\n",
    "print(resultado)\n",
    "print(type(resultado))"
   ]
  },
  {
   "cell_type": "markdown",
   "metadata": {
    "tags": []
   },
   "source": [
    "---\n",
    "\n",
    "### 2. Combinando comparaciones o condiciones\n",
    "\n",
    "- ¿Cuál es el resultado de las siguientes operaciones de comparación?"
   ]
  },
  {
   "cell_type": "code",
   "execution_count": null,
   "metadata": {},
   "outputs": [],
   "source": [
    "numero = 3\n",
    "print(numero > 1)          \n",
    "print(numero < 5)          \n",
    "print(numero > 1 and numero < 5) "
   ]
  },
  {
   "cell_type": "markdown",
   "metadata": {},
   "source": [
    "- ¿Qué sucede si cambiamos la primera condición para que sea falsa?"
   ]
  },
  {
   "cell_type": "code",
   "execution_count": null,
   "metadata": {},
   "outputs": [],
   "source": [
    "numero = 3\n",
    "print(numero > 4)          \n",
    "print(numero < 5)          \n",
    "print(numero > 4 and numero < 5) "
   ]
  },
  {
   "cell_type": "markdown",
   "metadata": {},
   "source": [
    "- ¿Qué sucede si cambiamos la segunda condición para que sea falsa?"
   ]
  },
  {
   "cell_type": "code",
   "execution_count": null,
   "metadata": {},
   "outputs": [],
   "source": [
    "numero = 3\n",
    "print(numero > 1)          \n",
    "print(numero < 2)          \n",
    "print(numero > 1 and numero < 2) "
   ]
  },
  {
   "cell_type": "markdown",
   "metadata": {},
   "source": [
    "- Finalmente, ¿qué sucede si cambiamos ambas condiciones para que sean falsas?"
   ]
  },
  {
   "cell_type": "code",
   "execution_count": null,
   "metadata": {},
   "outputs": [],
   "source": [
    "numero = 3\n",
    "print(numero > 4)          \n",
    "print(numero < 2)          \n",
    "print(numero > 4 and numero < 2) "
   ]
  },
  {
   "cell_type": "markdown",
   "metadata": {},
   "source": [
    "--- \n",
    "\n",
    "### 3. ¿Dónde más usamos booleanos?\n",
    "\n",
    "- Mira esta versión modificada del ejemplo *¿Quieres más dulces?* del Capítulo 17:"
   ]
  },
  {
   "cell_type": "code",
   "execution_count": null,
   "metadata": {},
   "outputs": [],
   "source": [
    "# Inicializar variables\n",
    "numero_de_dulces = 0\n",
    "\n",
    "# Usar el booleano como una bandera\n",
    "bandera = True\n",
    "\n",
    "# Imprimir el número inicial de dulces\n",
    "print(\"Tienes \" + str(numero_de_dulces) + \" dulces\")\n",
    "\n",
    "# Mientras la bandera sea True (= un semáforo verde):\n",
    "while bandera == True:\n",
    "\n",
    "    # Preguntar si se quiere un dulce\n",
    "    respuesta = input(\"¿Quieres un dulce? (sí/no)\")\n",
    "\n",
    "    # Si la respuesta es sí\n",
    "    if respuesta == \"sí\":\n",
    "\n",
    "        # Agregar un dulce\n",
    "        numero_de_dulces += 1\n",
    "\n",
    "        # Imprimir el número total de dulces\n",
    "        print(\"Tienes \" + str(numero_de_dulces) + \" dulces\")\n",
    "\n",
    "    # Si la respuesta es no\n",
    "    else:\n",
    "\n",
    "        # Imprimir el número final de dulces\n",
    "        print(\"Tienes un total de \" + str(numero_de_dulces) + \" dulces\")\n",
    "\n",
    "        # Detener el bucle asignando False a la bandera (= un semáforo rojo)\n",
    "        bandera = False"
   ]
  },
  {
   "cell_type": "markdown",
   "metadata": {},
   "source": [
    "- Aquí está el código del Capítulo 17 para comparación:"
   ]
  },
  {
   "cell_type": "code",
   "execution_count": null,
   "metadata": {},
   "outputs": [],
   "source": [
    "# Inicializa tus variables\n",
    "cantidad_de_dulces = 0\n",
    "\n",
    "# Imprime la cantidad inicial de dulces que tienes\n",
    "print(\"Tienes \" + str(cantidad_de_dulces) + \" dulces\")\n",
    "\n",
    "# Responde si deseas un dulce\n",
    "respuesta = input(\"¿Quieres un dulce? (sí/no)\")\n",
    "\n",
    "# Mientras tu respuesta sea sí:\n",
    "while respuesta == \"sí\":\n",
    "\n",
    "    # Agrega un dulce a tu colección\n",
    "    cantidad_de_dulces += 1\n",
    "\n",
    "    # Imprime la cantidad actual de dulces que tienes\n",
    "    print(\"Tienes \" + str(cantidad_de_dulces) + \" dulces\")\n",
    "\n",
    "    # Pregunta de nuevo si deseas más dulces\n",
    "    respuesta = input(\"¿Quieres más dulces? (sí/no)\")\n",
    "\n",
    "# Imprime la cantidad final de dulces que tienes\n",
    "print(\"Tienes un total de \" + str(cantidad_de_dulces) + \" dulces\")"
   ]
  }
 ],
 "metadata": {
  "kernelspec": {
   "display_name": "Python 3 (ipykernel)",
   "language": "python",
   "name": "python3"
  },
  "language_info": {
   "codemirror_mode": {
    "name": "ipython",
    "version": 3
   },
   "file_extension": ".py",
   "mimetype": "text/x-python",
   "name": "python",
   "nbconvert_exporter": "python",
   "pygments_lexer": "ipython3",
   "version": "3.10.12"
  },
  "widgets": {
   "application/vnd.jupyter.widget-state+json": {
    "state": {},
    "version_major": 2,
    "version_minor": 0
   }
  }
 },
 "nbformat": 4,
 "nbformat_minor": 4
}
