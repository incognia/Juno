{
 "cells": [
  {
   "cell_type": "markdown",
   "metadata": {},
   "source": [
    "# 10. Where are my gloves?\n",
    "\n",
    "## For loop for searching\n",
    "\n",
    "[Learn Python with Jupyter](https://learnpythonwithjupyter.com/) by [Serena Bonaretti](https://sbonaretti.github.io/)   \n",
    "Narrative license: [CC BY-NC-SA](https://creativecommons.org/licenses/by-nc-sa/2.0/). Code license: [GNU-GPL v3](https://www.gnu.org/licenses/gpl-3.0.en.html)  \n",
    "\n",
    "---"
   ]
  },
  {
   "cell_type": "markdown",
   "metadata": {},
   "source": [
    "- Who doesn’t have a messy drawer? Here is ours! It contains some accessories:"
   ]
  },
  {
   "cell_type": "code",
   "execution_count": null,
   "metadata": {},
   "outputs": [],
   "source": [
    "accessories = [\"belt\", \"hat\", \"gloves\", \"sunglasses\", \"ring\"]\n",
    "print (accessories)"
   ]
  },
  {
   "cell_type": "markdown",
   "metadata": {},
   "source": [
    "- Print out all accessories one by one, as well as their positions in the list. Use a sentence like *The element x is in position y*:  "
   ]
  },
  {
   "cell_type": "code",
   "execution_count": null,
   "metadata": {},
   "outputs": [],
   "source": [
    "# for each position in the list\n",
    "for i in range (len(accessories)):\n",
    "    #print each elements and its position\n",
    "    print (\"The element \"  + accessories[i] + \" is in position \" + str(i))"
   ]
  },
  {
   "cell_type": "markdown",
   "metadata": {},
   "source": [
    "1. Print the accessory whose name is **composed of** 6 characters and its position in the list. Use a sentence like *The element x is in position y and it has n characters*:"
   ]
  },
  {
   "cell_type": "code",
   "execution_count": null,
   "metadata": {},
   "outputs": [],
   "source": [
    "# for each position in the list\n",
    "for i in range (len(accessories)):\n",
    "    # if the length of the element equals 6\n",
    "    if len(accessories[i]) == 6:\n",
    "        # print the element, its position, and its number of characters\n",
    "        print (\"The element \" + accessories[i] + \" is in position \" + str(i) + \" and it has 6 characters\")"
   ]
  },
  {
   "cell_type": "markdown",
   "metadata": {},
   "source": [
    "2. Print the accessories whose names are composed of **less than** 6 characters:"
   ]
  },
  {
   "cell_type": "code",
   "execution_count": null,
   "metadata": {},
   "outputs": [],
   "source": [
    "# for each position in the list\n",
    "for i in range (len(accessories)):\n",
    "    # if the length of the element is less than 6\n",
    "    if len(accessories[i]) < 6:\n",
    "        # print the element, its position, and its number of characters\n",
    "        print (\"The element \" + accessories[i] + \" is in position \" + str(i) + \" and it has less than 6 characters\")  "
   ]
  },
  {
   "cell_type": "markdown",
   "metadata": {},
   "source": [
    "3. Print the accessories whose name is composed of **more than** 6 characters. Also, assign 6 to a variable:"
   ]
  },
  {
   "cell_type": "code",
   "execution_count": null,
   "metadata": {},
   "outputs": [],
   "source": [
    "# defining the threshold\n",
    "n_of_characters = 6 \n",
    "# for each position in the list \n",
    "for i in range (len(accessories)):\n",
    "    # if the length of the element is greater than the threshold\n",
    "    if len(accessories[i]) > n_of_characters:\n",
    "        # print the element, its position, and its number of characters\n",
    "        print (\"The element \" + accessories[i] + \" is in position \" + str(i) + \" and it has more than \" + str(n_of_characters) + \" characters\")"
   ]
  },
  {
   "cell_type": "markdown",
   "metadata": {},
   "source": [
    "4. Print the accessories whose names are composed of a number of characters **different from** 6:"
   ]
  },
  {
   "cell_type": "code",
   "execution_count": null,
   "metadata": {
    "tags": []
   },
   "outputs": [],
   "source": [
    "# defining the threshold\n",
    "n_of_characters = 6 \n",
    "# for each position in the list \n",
    "for i in range (len(accessories)):\n",
    "    # if the length of the element is not equal to the threshold\n",
    "    if len(accessories[i]) != n_of_characters:\n",
    "        # print the element, its position, and its number of characters\n",
    "        print (\"The element \" + accessories[i] + \" is in position \" + str(i) + \" and it has a number of characters different from \" + str(n_of_characters))"
   ]
  },
  {
   "cell_type": "markdown",
   "metadata": {},
   "source": [
    "5. Print the accessories whose position is **less than or equal to** 2:"
   ]
  },
  {
   "cell_type": "code",
   "execution_count": null,
   "metadata": {
    "tags": []
   },
   "outputs": [],
   "source": [
    "# defining the threshold\n",
    "position = 2 \n",
    "# for each position in the list \n",
    "for i in range (len(accessories)):\n",
    "    # if the position of the element is less then or equal to to the threshold\n",
    "    if i <= position:\n",
    "        # print the element, its position, and its position characteristic\n",
    "        print (\"The element \" + accessories[i] + \" is in position \" + str(i) + \", which is less than or equal to \" + str(position))"
   ]
  },
  {
   "cell_type": "markdown",
   "metadata": {},
   "source": [
    "6. Print the accessories whose position is **at least** 2:"
   ]
  },
  {
   "cell_type": "code",
   "execution_count": null,
   "metadata": {
    "tags": []
   },
   "outputs": [],
   "source": [
    "# defining the threshold\n",
    "position = 2 \n",
    "# for each position in the list \n",
    "for i in range (len(accessories)):\n",
    "    # if the position of the element is greater then or equal to to the threshold\n",
    "    if i >= position:\n",
    "        # print the element, its position, and its position characteristic\n",
    "        print (\"The element \" + accessories[i] + \" is in position \" + str(i) + \", which is at least \" + str(position))"
   ]
  }
 ],
 "metadata": {
  "kernelspec": {
   "display_name": "Python 3 (ipykernel)",
   "language": "python",
   "name": "python3"
  },
  "language_info": {
   "codemirror_mode": {
    "name": "ipython",
    "version": 3
   },
   "file_extension": ".py",
   "mimetype": "text/x-python",
   "name": "python",
   "nbconvert_exporter": "python",
   "pygments_lexer": "ipython3",
   "version": "3.9.13"
  },
  "widgets": {
   "application/vnd.jupyter.widget-state+json": {
    "state": {},
    "version_major": 2,
    "version_minor": 0
   }
  }
 },
 "nbformat": 4,
 "nbformat_minor": 4
}
