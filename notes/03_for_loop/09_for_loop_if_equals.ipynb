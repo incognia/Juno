{
 "cells": [
  {
   "cell_type": "markdown",
   "metadata": {},
   "source": [
    "# 9. At the zoo\n",
    "## For loop with if... == ... / else\n",
    "\n",
    "[Learn Python with Jupyter](https://learnpythonwithjupyter.com/) by [Serena Bonaretti](https://sbonaretti.github.io/)   \n",
    "Narrative license: [CC BY-NC-SA](https://creativecommons.org/licenses/by-nc-sa/2.0/). Code license: [GNU-GPL v3](https://www.gnu.org/licenses/gpl-3.0.en.html)  \n",
    "\n",
    "---"
   ]
  },
  {
   "cell_type": "markdown",
   "metadata": {},
   "source": [
    "- You are at the zoo and you write down a list of some animals you see:"
   ]
  },
  {
   "cell_type": "code",
   "execution_count": 1,
   "metadata": {},
   "outputs": [
    {
     "name": "stdout",
     "output_type": "stream",
     "text": [
      "['giraffe', 'penguin', 'dolphin']\n"
     ]
    }
   ],
   "source": [
    "animals = [\"giraffe\", \"penguin\", \"dolphin\"]\n",
    "print (animals)"
   ]
  },
  {
   "cell_type": "markdown",
   "metadata": {},
   "source": [
    "- Then you print out the animals one by one:"
   ]
  },
  {
   "cell_type": "code",
   "execution_count": 2,
   "metadata": {},
   "outputs": [
    {
     "name": "stdout",
     "output_type": "stream",
     "text": [
      "-- Beginning of loop --\n",
      "The element in position 0 is giraffe\n",
      "-- Beginning of loop --\n",
      "The element in position 1 is penguin\n",
      "-- Beginning of loop --\n",
      "The element in position 2 is dolphin\n"
     ]
    }
   ],
   "source": [
    "# for each position in the list\n",
    "for i in range (0, len(animals)):\n",
    "    print (\"-- Beginning of loop --\")\n",
    "    # print each element and its position\n",
    "    print (\"The element in position \" + str(i) + \" is \" + animals[i])"
   ]
  },
  {
   "cell_type": "markdown",
   "metadata": {},
   "source": [
    "- You really wanted to see a penguin: "
   ]
  },
  {
   "cell_type": "code",
   "execution_count": 3,
   "metadata": {},
   "outputs": [],
   "source": [
    "wanted_to_see = \"penguin\""
   ]
  },
  {
   "cell_type": "markdown",
   "metadata": {},
   "source": [
    "- Once home, you tell your friend the animals you saw, specifying which one you really wanted to see:"
   ]
  },
  {
   "cell_type": "code",
   "execution_count": 4,
   "metadata": {},
   "outputs": [
    {
     "name": "stdout",
     "output_type": "stream",
     "text": [
      "I saw a giraffe\n",
      "I saw a penguin and I really wanted to see it!\n",
      "I saw a dolphin\n"
     ]
    }
   ],
   "source": [
    "# for each position in the list\n",
    "for i in range (0, len(animals)):\n",
    "    # if the current animal is what you really wanted to see\n",
    "    if animals[i] == wanted_to_see:\n",
    "        # print out that that's the animal you really wanted to see\n",
    "        print (\"I saw a \" + animals[i] + \" and I really wanted to see it!\")\n",
    "    # if the current animal is not what you really wanted to see\n",
    "    else:\n",
    "        # just print out that you saw it\n",
    "        print (\"I saw a \" + animals[i])\n",
    "    "
   ]
  }
 ],
 "metadata": {
  "kernelspec": {
   "display_name": "Python 3 (ipykernel)",
   "language": "python",
   "name": "python3"
  },
  "language_info": {
   "codemirror_mode": {
    "name": "ipython",
    "version": 3
   },
   "file_extension": ".py",
   "mimetype": "text/x-python",
   "name": "python",
   "nbconvert_exporter": "python",
   "pygments_lexer": "ipython3",
   "version": "3.9.13"
  },
  "widgets": {
   "application/vnd.jupyter.widget-state+json": {
    "state": {},
    "version_major": 2,
    "version_minor": 0
   }
  }
 },
 "nbformat": 4,
 "nbformat_minor": 4
}
