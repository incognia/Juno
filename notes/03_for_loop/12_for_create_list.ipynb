{
 "cells": [
  {
   "cell_type": "markdown",
   "metadata": {},
   "source": [
    "# 12. What a mess at the bookstore!\n",
    "\n",
    "## For loop to create new lists\n",
    "\n",
    "[Learn Python with Jupyter](https://learnpythonwithjupyter.com/) by [Serena Bonaretti](https://sbonaretti.github.io/)   \n",
    "Narrative license: [CC BY-NC-SA](https://creativecommons.org/licenses/by-nc-sa/2.0/). Code license: [GNU-GPL v3](https://www.gnu.org/licenses/gpl-3.0.en.html)  \n"
   ]
  },
  {
   "cell_type": "markdown",
   "metadata": {},
   "source": [
    "---"
   ]
  },
  {
   "cell_type": "markdown",
   "metadata": {},
   "source": [
    "- There were many customers in the shop today, and they mixed up the books whose authors’ last names start with A and S:"
   ]
  },
  {
   "cell_type": "code",
   "execution_count": null,
   "metadata": {},
   "outputs": [],
   "source": [
    "authors = [\"Alcott\", \"Saint-Exupery\", \"Arendt\", \"Sepulveda\", \"Shakespeare\"]"
   ]
  },
  {
   "cell_type": "markdown",
   "metadata": {},
   "source": [
    "- So you have to put the books whose authors’ last name starts with A on one shelf, and the books whose authors’ last name starts with S on another shelf:"
   ]
  },
  {
   "cell_type": "code",
   "execution_count": null,
   "metadata": {},
   "outputs": [],
   "source": [
    "# initialize the variables as empty lists\n",
    "shelf_a = []\n",
    "shelf_s = []\n",
    "\n",
    "# for each position in the list\n",
    "for i in range (len(authors)):\n",
    "    \n",
    "    # print out the current element\n",
    "    print (\"The current author is: \" + authors[i])\n",
    "    \n",
    "    # get the initial of the current author\n",
    "    author_initial = authors[i][0] \n",
    "    print (\"The author's initial is: \" + author_initial)\n",
    "    \n",
    "    # if the author's initial is A\n",
    "    if author_initial == \"A\": \n",
    "        # add the author to the shelf a\n",
    "        shelf_a.append(authors[i])\n",
    "        print (\"The shelf A now contains: \" + str(shelf_a) + \"\\n\")\n",
    "    \n",
    "    # otherwise (author's initial is not A)\n",
    "    else:\n",
    "        # add the author to the shelf s\n",
    "        shelf_s = shelf_s + [authors[i]]\n",
    "        print (\"The shelf S now contains: \" + str(shelf_s) + \"\\n\")\n",
    "\n",
    "# print out the final shelves\n",
    "print (\"The authors on the shelf A are: \" + str(shelf_a))\n",
    "print (\"The authors on the shelf S are: \" + str(shelf_s))      "
   ]
  }
 ],
 "metadata": {
  "kernelspec": {
   "display_name": "Python 3 (ipykernel)",
   "language": "python",
   "name": "python3"
  },
  "language_info": {
   "codemirror_mode": {
    "name": "ipython",
    "version": 3
   },
   "file_extension": ".py",
   "mimetype": "text/x-python",
   "name": "python",
   "nbconvert_exporter": "python",
   "pygments_lexer": "ipython3",
   "version": "3.9.13"
  },
  "widgets": {
   "application/vnd.jupyter.widget-state+json": {
    "state": {},
    "version_major": 2,
    "version_minor": 0
   }
  }
 },
 "nbformat": 4,
 "nbformat_minor": 4
}
