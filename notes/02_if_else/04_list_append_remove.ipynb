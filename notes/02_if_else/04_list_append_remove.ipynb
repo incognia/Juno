{
 "cells": [
  {
   "cell_type": "markdown",
   "metadata": {},
   "source": [
    "# 4. Grocery shopping\n",
    "\n",
    "## List methods: .append() and .remove()\n",
    "\n",
    "\n",
    "[Learn Python with Jupyter](https://learnpythonwithjupyter.com/) by [Serena Bonaretti](https://sbonaretti.github.io/)   \n",
    "Narrative license: [CC BY-NC-SA](https://creativecommons.org/licenses/by-nc-sa/2.0/). Code license: [GNU-GPL v3](https://www.gnu.org/licenses/gpl-3.0.en.html) "
   ]
  },
  {
   "cell_type": "markdown",
   "metadata": {},
   "source": [
    "---"
   ]
  },
  {
   "cell_type": "markdown",
   "metadata": {},
   "source": [
    "- You are going to a grocery store where you have to buy some food:"
   ]
  },
  {
   "cell_type": "code",
   "execution_count": null,
   "metadata": {},
   "outputs": [],
   "source": [
    "shopping_list = [\"carrots\", \"chocolate\", \"olives\"]\n",
    "print (shopping_list)"
   ]
  },
  {
   "cell_type": "markdown",
   "metadata": {},
   "source": [
    "- Right before leaving home, you ask yourself if you have to buy something else. If the item is not in the list, you add it:"
   ]
  },
  {
   "cell_type": "code",
   "execution_count": null,
   "metadata": {},
   "outputs": [],
   "source": [
    "new_item = input(\"What else do I have to buy?\")\n",
    "\n",
    "if new_item in shopping_list:\n",
    "    print (new_item + \" is/are already in the shopping list\")\n",
    "    print (shopping_list) \n",
    "else:\n",
    "    shopping_list.append(new_item)\n",
    "    print (shopping_list)"
   ]
  },
  {
   "cell_type": "markdown",
   "metadata": {},
   "source": [
    "- Finally, you ask yourself if you have to remove an item. If so, you remove the item from the list:"
   ]
  },
  {
   "cell_type": "code",
   "execution_count": null,
   "metadata": {},
   "outputs": [],
   "source": [
    "item_to_remove = input(\"What do I have to remove?\")\n",
    "\n",
    "if item_to_remove in shopping_list:\n",
    "    shopping_list.remove(item_to_remove)\n",
    "    print (shopping_list)\n",
    "else:\n",
    "    print (item_to_remove + \" is/are not in the list\")\n",
    "    print (shopping_list)"
   ]
  }
 ],
 "metadata": {
  "kernelspec": {
   "display_name": "Python 3 (ipykernel)",
   "language": "python",
   "name": "python3"
  },
  "language_info": {
   "codemirror_mode": {
    "name": "ipython",
    "version": 3
   },
   "file_extension": ".py",
   "mimetype": "text/x-python",
   "name": "python",
   "nbconvert_exporter": "python",
   "pygments_lexer": "ipython3",
   "version": "3.9.13"
  },
  "widgets": {
   "application/vnd.jupyter.widget-state+json": {
    "state": {},
    "version_major": 2,
    "version_minor": 0
   }
  }
 },
 "nbformat": 4,
 "nbformat_minor": 4
}
