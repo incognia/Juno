{
 "cells": [
  {
   "cell_type": "markdown",
   "metadata": {},
   "source": [
    "# 14. Playing with numbers\n",
    "\n",
    "## Common operations with lists of numbers\n",
    "\n",
    "[Learn Python with Jupyter](https://learnpythonwithjupyter.com/) by [Serena Bonaretti](https://sbonaretti.github.io/)   \n",
    "Narrative license: [CC BY-NC-SA](https://creativecommons.org/licenses/by-nc-sa/2.0/). Code license: [GNU-GPL v3](https://www.gnu.org/licenses/gpl-3.0.en.html)  \n",
    "---"
   ]
  },
  {
   "cell_type": "markdown",
   "metadata": {
    "tags": []
   },
   "source": [
    "## 1. Changing numbers based on conditions"
   ]
  },
  {
   "cell_type": "markdown",
   "metadata": {},
   "source": [
    "- Given the following list of numbers:"
   ]
  },
  {
   "cell_type": "code",
   "execution_count": null,
   "metadata": {},
   "outputs": [],
   "source": [
    "numbers = [12, 3, 15, 7, 18] "
   ]
  },
  {
   "cell_type": "markdown",
   "metadata": {},
   "source": [
    "- Subtract 1 from the numbers greater than or equal to 10, and add 2 to the numbers that are less than 10: "
   ]
  },
  {
   "cell_type": "code",
   "execution_count": null,
   "metadata": {},
   "outputs": [],
   "source": [
    "# for each position in the list\n",
    "for i in range (len(numbers)):  \n",
    "    \n",
    "    # if the current number is greater than or equal to 10\n",
    "    if numbers[i] >= 10:\n",
    "        # subtract 1\n",
    "        numbers[i] = numbers[i] - 1\n",
    "    # otherwise\n",
    "    else:\n",
    "        # add 2\n",
    "        numbers[i] = numbers[i] + 2\n",
    "\n",
    "# print the final result\n",
    "print (numbers) "
   ]
  },
  {
   "cell_type": "markdown",
   "metadata": {},
   "source": [
    "---\n",
    "## 2. Separating even and odd numbers"
   ]
  },
  {
   "cell_type": "markdown",
   "metadata": {},
   "source": [
    "- Given the following list of numbers:"
   ]
  },
  {
   "cell_type": "code",
   "execution_count": null,
   "metadata": {},
   "outputs": [],
   "source": [
    "numbers = [2, 10, 7, 5, 0, 9] "
   ]
  },
  {
   "cell_type": "markdown",
   "metadata": {},
   "source": [
    "- Separate them in two different lists, one for odd numbers, and one for even numbers:"
   ]
  },
  {
   "cell_type": "code",
   "execution_count": null,
   "metadata": {},
   "outputs": [],
   "source": [
    "# initialize empty lists\n",
    "even = []\n",
    "odd  = []\n",
    "\n",
    "# for each position in the list\n",
    "for i in range (len(numbers)): \n",
    "    \n",
    "    # if the current number is even\n",
    "    if numbers [i] % 2 == 0:\n",
    "        # add it to the list \"even\"\n",
    "        even.append(numbers[i])\n",
    "    # otherwise\n",
    "    else:\n",
    "        # add it to the list \"odd\"\n",
    "        odd.append(numbers[i])\n",
    "\n",
    "# check the final results\n",
    "print (even)\n",
    "print (odd)"
   ]
  },
  {
   "cell_type": "markdown",
   "metadata": {},
   "source": [
    "---\n",
    "## 3. Finding the maximum of a list of numbers"
   ]
  },
  {
   "cell_type": "markdown",
   "metadata": {},
   "source": [
    "- Given the following list of numbers:"
   ]
  },
  {
   "cell_type": "code",
   "execution_count": null,
   "metadata": {},
   "outputs": [],
   "source": [
    "numbers = [2, -5, 34, 70, 22] "
   ]
  },
  {
   "cell_type": "markdown",
   "metadata": {},
   "source": [
    "- Find the maximum number in the list:"
   ]
  },
  {
   "cell_type": "code",
   "execution_count": null,
   "metadata": {},
   "outputs": [],
   "source": [
    "# initialize the maximum with the first element of the list\n",
    "maximum = numbers[0]\n",
    "\n",
    "# for each position in the list starting from the second\n",
    "for i in range (1, len(numbers)):\n",
    "    \n",
    "    # if the current number is greater than the current maximum\n",
    "    if numbers[i] > maximum:\n",
    "        # assign the number to maximum\n",
    "        maximum = numbers[i]\n",
    "\n",
    "# print the maximum of the list\n",
    "print (maximum)"
   ]
  }
 ],
 "metadata": {
  "kernelspec": {
   "display_name": "Python 3 (ipykernel)",
   "language": "python",
   "name": "python3"
  },
  "language_info": {
   "codemirror_mode": {
    "name": "ipython",
    "version": 3
   },
   "file_extension": ".py",
   "mimetype": "text/x-python",
   "name": "python",
   "nbconvert_exporter": "python",
   "pygments_lexer": "ipython3",
   "version": "3.9.13"
  },
  "widgets": {
   "application/vnd.jupyter.widget-state+json": {
    "state": {},
    "version_major": 2,
    "version_minor": 0
   }
  }
 },
 "nbformat": 4,
 "nbformat_minor": 4
}
